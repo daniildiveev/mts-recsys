{
 "cells": [
  {
   "cell_type": "markdown",
   "id": "3a73c44a-8f54-439d-a900-e6e2c70ad604",
   "metadata": {},
   "source": [
    "# Imports"
   ]
  },
  {
   "cell_type": "code",
   "execution_count": 135,
   "id": "27e89956-f63f-4d8b-90be-dd8613999ec3",
   "metadata": {},
   "outputs": [],
   "source": [
    "from datetime import timedelta\n",
    "from itertools import product\n",
    "from tqdm.notebook import tqdm\n",
    "import pandas as pd\n",
    "import numpy as np\n",
    "from rectools import Columns\n",
    "from rectools.models import PopularModel, PopularInCategoryModel\n",
    "from rectools.metrics import calc_metrics, MAP\n",
    "from rectools.dataset import Dataset, Interactions\n",
    "from rectools.model_selection import TimeRangeSplitter\n",
    "from models.popular_among_n_unique import PopularAmongNUniqueUsers"
   ]
  },
  {
   "cell_type": "markdown",
   "id": "0bfb3eae-64b5-44e2-969d-3bdbb963d26a",
   "metadata": {},
   "source": [
    "# Loading data"
   ]
  },
  {
   "cell_type": "code",
   "execution_count": 2,
   "id": "c908b15b-ab39-45a2-ae6f-0497b94b36cd",
   "metadata": {},
   "outputs": [],
   "source": [
    "interactions = pd.read_csv(\"data/interactions.csv\")\n",
    "items = pd.read_csv(\"data/items.csv\")\n",
    "users = pd.read_csv(\"data/users.csv\") "
   ]
  },
  {
   "cell_type": "code",
   "execution_count": 3,
   "id": "66ceaf06-7e7e-4984-b066-056aa07b13a3",
   "metadata": {},
   "outputs": [],
   "source": [
    "sample_submission = pd.read_csv(\"data/sample_submission.csv\")"
   ]
  },
  {
   "cell_type": "code",
   "execution_count": 4,
   "id": "78feb58a-7bc8-442f-9df3-dfce893e125e",
   "metadata": {},
   "outputs": [
    {
     "data": {
      "text/html": [
       "<div>\n",
       "<style scoped>\n",
       "    .dataframe tbody tr th:only-of-type {\n",
       "        vertical-align: middle;\n",
       "    }\n",
       "\n",
       "    .dataframe tbody tr th {\n",
       "        vertical-align: top;\n",
       "    }\n",
       "\n",
       "    .dataframe thead th {\n",
       "        text-align: right;\n",
       "    }\n",
       "</style>\n",
       "<table border=\"1\" class=\"dataframe\">\n",
       "  <thead>\n",
       "    <tr style=\"text-align: right;\">\n",
       "      <th></th>\n",
       "      <th>user_id</th>\n",
       "      <th>item_id</th>\n",
       "    </tr>\n",
       "  </thead>\n",
       "  <tbody>\n",
       "    <tr>\n",
       "      <th>0</th>\n",
       "      <td>3</td>\n",
       "      <td>[9728, 15297, 10440, 14488, 13865, 12192, 341,...</td>\n",
       "    </tr>\n",
       "    <tr>\n",
       "      <th>1</th>\n",
       "      <td>11</td>\n",
       "      <td>[9728, 15297, 10440, 14488, 13865, 12192, 341,...</td>\n",
       "    </tr>\n",
       "    <tr>\n",
       "      <th>2</th>\n",
       "      <td>29</td>\n",
       "      <td>[9728, 15297, 10440, 14488, 13865, 12192, 341,...</td>\n",
       "    </tr>\n",
       "    <tr>\n",
       "      <th>3</th>\n",
       "      <td>30</td>\n",
       "      <td>[9728, 15297, 10440, 14488, 13865, 12192, 341,...</td>\n",
       "    </tr>\n",
       "    <tr>\n",
       "      <th>4</th>\n",
       "      <td>33</td>\n",
       "      <td>[9728, 15297, 10440, 14488, 13865, 12192, 341,...</td>\n",
       "    </tr>\n",
       "    <tr>\n",
       "      <th>...</th>\n",
       "      <td>...</td>\n",
       "      <td>...</td>\n",
       "    </tr>\n",
       "    <tr>\n",
       "      <th>193108</th>\n",
       "      <td>1097527</td>\n",
       "      <td>[9728, 15297, 10440, 14488, 13865, 12192, 341,...</td>\n",
       "    </tr>\n",
       "    <tr>\n",
       "      <th>193109</th>\n",
       "      <td>1097537</td>\n",
       "      <td>[9728, 15297, 10440, 14488, 13865, 12192, 341,...</td>\n",
       "    </tr>\n",
       "    <tr>\n",
       "      <th>193110</th>\n",
       "      <td>1097538</td>\n",
       "      <td>[9728, 15297, 10440, 14488, 13865, 12192, 341,...</td>\n",
       "    </tr>\n",
       "    <tr>\n",
       "      <th>193111</th>\n",
       "      <td>1097544</td>\n",
       "      <td>[9728, 15297, 10440, 14488, 13865, 12192, 341,...</td>\n",
       "    </tr>\n",
       "    <tr>\n",
       "      <th>193112</th>\n",
       "      <td>1097558</td>\n",
       "      <td>[9728, 15297, 10440, 14488, 13865, 12192, 341,...</td>\n",
       "    </tr>\n",
       "  </tbody>\n",
       "</table>\n",
       "<p>193113 rows × 2 columns</p>\n",
       "</div>"
      ],
      "text/plain": [
       "        user_id                                            item_id\n",
       "0             3  [9728, 15297, 10440, 14488, 13865, 12192, 341,...\n",
       "1            11  [9728, 15297, 10440, 14488, 13865, 12192, 341,...\n",
       "2            29  [9728, 15297, 10440, 14488, 13865, 12192, 341,...\n",
       "3            30  [9728, 15297, 10440, 14488, 13865, 12192, 341,...\n",
       "4            33  [9728, 15297, 10440, 14488, 13865, 12192, 341,...\n",
       "...         ...                                                ...\n",
       "193108  1097527  [9728, 15297, 10440, 14488, 13865, 12192, 341,...\n",
       "193109  1097537  [9728, 15297, 10440, 14488, 13865, 12192, 341,...\n",
       "193110  1097538  [9728, 15297, 10440, 14488, 13865, 12192, 341,...\n",
       "193111  1097544  [9728, 15297, 10440, 14488, 13865, 12192, 341,...\n",
       "193112  1097558  [9728, 15297, 10440, 14488, 13865, 12192, 341,...\n",
       "\n",
       "[193113 rows x 2 columns]"
      ]
     },
     "execution_count": 4,
     "metadata": {},
     "output_type": "execute_result"
    }
   ],
   "source": [
    "sample_submission"
   ]
  },
  {
   "cell_type": "markdown",
   "id": "9ab8ad03-8492-47ea-8661-30ed13e820ed",
   "metadata": {},
   "source": [
    "# Data preprocessing"
   ]
  },
  {
   "cell_type": "code",
   "execution_count": 5,
   "id": "a101ab82-796e-4b9f-a142-e94dfa364399",
   "metadata": {},
   "outputs": [],
   "source": [
    "interactions.rename(\n",
    "    columns={\n",
    "        'track_id' : Columns.Item,\n",
    "        'last_watch_dt' : Columns.Datetime,\n",
    "        'total_dur' : Columns.Weight\n",
    "    },\n",
    "    inplace=True\n",
    ")"
   ]
  },
  {
   "cell_type": "code",
   "execution_count": 6,
   "id": "802412d7-9a47-4b34-bf85-9ff1ef42e59b",
   "metadata": {},
   "outputs": [
    {
     "data": {
      "text/html": [
       "<div>\n",
       "<style scoped>\n",
       "    .dataframe tbody tr th:only-of-type {\n",
       "        vertical-align: middle;\n",
       "    }\n",
       "\n",
       "    .dataframe tbody tr th {\n",
       "        vertical-align: top;\n",
       "    }\n",
       "\n",
       "    .dataframe thead th {\n",
       "        text-align: right;\n",
       "    }\n",
       "</style>\n",
       "<table border=\"1\" class=\"dataframe\">\n",
       "  <thead>\n",
       "    <tr style=\"text-align: right;\">\n",
       "      <th></th>\n",
       "      <th>item_id</th>\n",
       "      <th>value</th>\n",
       "      <th>feature</th>\n",
       "    </tr>\n",
       "  </thead>\n",
       "  <tbody>\n",
       "    <tr>\n",
       "      <th>0</th>\n",
       "      <td>10711</td>\n",
       "      <td>1983.0</td>\n",
       "      <td>release_year</td>\n",
       "    </tr>\n",
       "    <tr>\n",
       "      <th>1</th>\n",
       "      <td>2508</td>\n",
       "      <td>2012.0</td>\n",
       "      <td>release_year</td>\n",
       "    </tr>\n",
       "    <tr>\n",
       "      <th>2</th>\n",
       "      <td>10716</td>\n",
       "      <td>2009.0</td>\n",
       "      <td>release_year</td>\n",
       "    </tr>\n",
       "    <tr>\n",
       "      <th>3</th>\n",
       "      <td>7868</td>\n",
       "      <td>2014.0</td>\n",
       "      <td>release_year</td>\n",
       "    </tr>\n",
       "    <tr>\n",
       "      <th>4</th>\n",
       "      <td>16268</td>\n",
       "      <td>1897.0</td>\n",
       "      <td>release_year</td>\n",
       "    </tr>\n",
       "  </tbody>\n",
       "</table>\n",
       "</div>"
      ],
      "text/plain": [
       "   item_id   value       feature\n",
       "0    10711  1983.0  release_year\n",
       "1     2508  2012.0  release_year\n",
       "2    10716  2009.0  release_year\n",
       "3     7868  2014.0  release_year\n",
       "4    16268  1897.0  release_year"
      ]
     },
     "execution_count": 6,
     "metadata": {},
     "output_type": "execute_result"
    }
   ],
   "source": [
    "_, bins = pd.qcut(items[\"release_year\"], 10, retbins=True)\n",
    "labels = bins[:-1]\n",
    "\n",
    "year_feature = pd.DataFrame(\n",
    "    {\n",
    "        Columns.Item: items[Columns.Item],\n",
    "        \"value\": pd.cut(items[\"release_year\"], bins=bins, labels=bins[:-1]),\n",
    "        \"feature\": \"release_year\",\n",
    "    }\n",
    ")\n",
    "year_feature.head()"
   ]
  },
  {
   "cell_type": "code",
   "execution_count": 7,
   "id": "2aba9956-e7d5-4faf-a325-2b265790b0a9",
   "metadata": {},
   "outputs": [],
   "source": [
    "items['genre'] = items['genres'].str.split(\",\")"
   ]
  },
  {
   "cell_type": "code",
   "execution_count": 8,
   "id": "9bef7a8d-39a3-470c-8ff8-d3545a5dace5",
   "metadata": {},
   "outputs": [
    {
     "data": {
      "text/html": [
       "<div>\n",
       "<style scoped>\n",
       "    .dataframe tbody tr th:only-of-type {\n",
       "        vertical-align: middle;\n",
       "    }\n",
       "\n",
       "    .dataframe tbody tr th {\n",
       "        vertical-align: top;\n",
       "    }\n",
       "\n",
       "    .dataframe thead th {\n",
       "        text-align: right;\n",
       "    }\n",
       "</style>\n",
       "<table border=\"1\" class=\"dataframe\">\n",
       "  <thead>\n",
       "    <tr style=\"text-align: right;\">\n",
       "      <th></th>\n",
       "      <th>item_id</th>\n",
       "      <th>value</th>\n",
       "      <th>feature</th>\n",
       "    </tr>\n",
       "  </thead>\n",
       "  <tbody>\n",
       "    <tr>\n",
       "      <th>0</th>\n",
       "      <td>10711</td>\n",
       "      <td>драмы</td>\n",
       "      <td>genre</td>\n",
       "    </tr>\n",
       "    <tr>\n",
       "      <th>0</th>\n",
       "      <td>10711</td>\n",
       "      <td>зарубежные</td>\n",
       "      <td>genre</td>\n",
       "    </tr>\n",
       "    <tr>\n",
       "      <th>0</th>\n",
       "      <td>10711</td>\n",
       "      <td>детективы</td>\n",
       "      <td>genre</td>\n",
       "    </tr>\n",
       "    <tr>\n",
       "      <th>0</th>\n",
       "      <td>10711</td>\n",
       "      <td>мелодрамы</td>\n",
       "      <td>genre</td>\n",
       "    </tr>\n",
       "    <tr>\n",
       "      <th>1</th>\n",
       "      <td>2508</td>\n",
       "      <td>зарубежные</td>\n",
       "      <td>genre</td>\n",
       "    </tr>\n",
       "  </tbody>\n",
       "</table>\n",
       "</div>"
      ],
      "text/plain": [
       "   item_id        value feature\n",
       "0    10711        драмы   genre\n",
       "0    10711   зарубежные   genre\n",
       "0    10711    детективы   genre\n",
       "0    10711    мелодрамы   genre\n",
       "1     2508   зарубежные   genre"
      ]
     },
     "execution_count": 8,
     "metadata": {},
     "output_type": "execute_result"
    }
   ],
   "source": [
    "genre_feature = items[[Columns.Item, \"genre\"]].explode(\"genre\")\n",
    "genre_feature.columns = [Columns.Item, \"value\"]\n",
    "genre_feature[\"feature\"] = \"genre\"\n",
    "genre_feature.head()"
   ]
  },
  {
   "cell_type": "code",
   "execution_count": 9,
   "id": "883d9a9e-f97d-484b-99fb-b6d209c5d509",
   "metadata": {},
   "outputs": [],
   "source": [
    "item_feat = pd.concat([genre_feature, year_feature])\n",
    "item_feat = item_feat[item_feat[Columns.Item].isin(interactions[Columns.Item])]"
   ]
  },
  {
   "cell_type": "code",
   "execution_count": 10,
   "id": "f96bc927-a03c-4e32-9673-64986b6424ee",
   "metadata": {},
   "outputs": [],
   "source": [
    "dataset = Dataset.construct(\n",
    "    interactions_df=interactions,\n",
    "    user_features_df=None,\n",
    "    item_features_df=item_feat,\n",
    "    cat_item_features=['genre', 'release_year']\n",
    ")"
   ]
  },
  {
   "cell_type": "code",
   "execution_count": 37,
   "id": "51864f2c-8729-4d46-b3cf-2727d71ccc09",
   "metadata": {},
   "outputs": [
    {
     "name": "stdout",
     "output_type": "stream",
     "text": [
      "\n",
      "    start_date: 2021-07-26 00:00:00\n",
      "    last_date: 2021-08-15 00:00:00\n",
      "    periods: 4\n",
      "    freq: 7D\n",
      "\n"
     ]
    }
   ],
   "source": [
    "n_folds = 3\n",
    "unit = \"D\"\n",
    "n_units = 7\n",
    "# last_date = interactions[Columns.Datetime].max().normalize()\n",
    "last_date = pd.to_datetime('15-08-2021', format='%d-%m-%Y')\n",
    "\n",
    "\n",
    "start_date = last_date - pd.Timedelta(n_folds * n_units - 1, unit=unit)\n",
    "periods = n_folds + 1\n",
    "freq = f\"{n_units}{unit}\"\n",
    "print(f\"\"\"\n",
    "    start_date: {start_date}\n",
    "    last_date: {last_date}\n",
    "    periods: {periods}\n",
    "    freq: {freq}\n",
    "\"\"\")\n",
    "\n",
    "date_range = pd.date_range(start=start_date, periods=periods, freq=freq, tz=last_date.tz)"
   ]
  },
  {
   "cell_type": "code",
   "execution_count": 120,
   "id": "d1ae2fdb-d111-45c6-a70a-43f719b4da04",
   "metadata": {},
   "outputs": [],
   "source": [
    "splitter = TimeRangeSplitter(date_range=date_range)\n",
    "interactions_ = Interactions(interactions)"
   ]
  },
  {
   "cell_type": "markdown",
   "id": "db8a061f-0741-41a0-92bd-eb43a5cca4cd",
   "metadata": {},
   "source": [
    "# Hypeparameter tuning and fitting simple Popular model"
   ]
  },
  {
   "cell_type": "code",
   "execution_count": 121,
   "id": "08f40cd9-15e8-4d30-b96d-db28af4bd6eb",
   "metadata": {},
   "outputs": [],
   "source": [
    "model_parameters = {\n",
    "    \"popularity\": [\"n_users\", \"n_interactions\", \"sum_weight\", \"mean_weight\"], \n",
    "    \"period\" : [None] + [i for i in range(1, 22)]\n",
    "}"
   ]
  },
  {
   "cell_type": "code",
   "execution_count": 122,
   "id": "5cec6be5-4e9f-4287-acbb-5a30ff8919da",
   "metadata": {},
   "outputs": [],
   "source": [
    "parameter_grid = tuple(product(*list(model_parameters.values())))"
   ]
  },
  {
   "cell_type": "code",
   "execution_count": 123,
   "id": "1f8b61b4-d567-416c-80ed-ba8d4da7f577",
   "metadata": {
    "tags": []
   },
   "outputs": [],
   "source": [
    "folds = splitter.split(interactions_)\n",
    "\n",
    "metrics = {\n",
    "    'MAP@10' : MAP(k=10), \n",
    "}\n",
    "\n",
    "results = {\n",
    "    \"model_name\" : [],\n",
    "    \"map\" : []\n",
    "}\n",
    "\n",
    "models = {}"
   ]
  },
  {
   "cell_type": "code",
   "execution_count": 124,
   "id": "b81f04b1-6d13-4bce-94bd-4bf12dd4706d",
   "metadata": {
    "tags": []
   },
   "outputs": [
    {
     "data": {
      "application/vnd.jupyter.widget-view+json": {
       "model_id": "21efe592d226424f94d16e76daf12020",
       "version_major": 2,
       "version_minor": 0
      },
      "text/plain": [
       "  0%|          | 0/3 [00:00<?, ?it/s]"
      ]
     },
     "metadata": {},
     "output_type": "display_data"
    },
    {
     "data": {
      "application/vnd.jupyter.widget-view+json": {
       "model_id": "f44695cedc74454197794ee1568a943d",
       "version_major": 2,
       "version_minor": 0
      },
      "text/plain": [
       "  0%|          | 0/88 [00:00<?, ?it/s]"
      ]
     },
     "metadata": {},
     "output_type": "display_data"
    },
    {
     "data": {
      "application/vnd.jupyter.widget-view+json": {
       "model_id": "a2725c2e685a4a18a093ab62d348297e",
       "version_major": 2,
       "version_minor": 0
      },
      "text/plain": [
       "  0%|          | 0/88 [00:00<?, ?it/s]"
      ]
     },
     "metadata": {},
     "output_type": "display_data"
    },
    {
     "data": {
      "application/vnd.jupyter.widget-view+json": {
       "model_id": "bc93361e7b1b4e8792982acc663dce5d",
       "version_major": 2,
       "version_minor": 0
      },
      "text/plain": [
       "  0%|          | 0/88 [00:00<?, ?it/s]"
      ]
     },
     "metadata": {},
     "output_type": "display_data"
    }
   ],
   "source": [
    "for i, (train_ids, test_ids, _) in tqdm(enumerate(folds), total=splitter.get_n_splits(interactions_)):\n",
    "    df_train = interactions_.df.iloc[train_ids]\n",
    "    item_feat_train = item_feat[item_feat[Columns.Item].isin(df_train[Columns.Item])]\n",
    "\n",
    "    dataset = Dataset.construct(\n",
    "        df_train,\n",
    "        None,\n",
    "        item_feat_train,\n",
    "        cat_item_features=['genre', 'release_year']\n",
    "    )\n",
    "\n",
    "    df_test = interactions_.df.iloc[test_ids][Columns.UserItem]\n",
    "    test_users = np.unique(df_test[Columns.User])\n",
    "    \n",
    "    for params in tqdm(parameter_grid):\n",
    "        model = PopularModel(popularity=params[0], period=pd.to_timedelta(params[1], unit='D'))\n",
    "        model.fit(dataset)\n",
    "\n",
    "        recos = model.recommend(\n",
    "            users = test_users,\n",
    "            dataset=dataset,\n",
    "            k=10,\n",
    "            filter_viewed=True\n",
    "        )\n",
    "\n",
    "        metric_values = calc_metrics(\n",
    "            metrics,\n",
    "            reco=recos,\n",
    "            interactions=df_test,\n",
    "            prev_interactions=df_train\n",
    "        )\n",
    "        \n",
    "        results['model_name'].append(f\"{params[0]}_{params[1]}\")\n",
    "        results['map'].append(metric_values[\"MAP@10\"])\n",
    "        \n",
    "        models[f\"{params[0]}_{params[1]}\"] = model"
   ]
  },
  {
   "cell_type": "code",
   "execution_count": 128,
   "id": "6355c7f5-937f-4bc5-b58a-d82ad8a52127",
   "metadata": {},
   "outputs": [],
   "source": [
    "results_df = pd.DataFrame(data=results)"
   ]
  },
  {
   "cell_type": "code",
   "execution_count": 129,
   "id": "00613799-9927-4d58-8d05-7d836b7234c7",
   "metadata": {},
   "outputs": [
    {
     "data": {
      "text/html": [
       "<div>\n",
       "<style scoped>\n",
       "    .dataframe tbody tr th:only-of-type {\n",
       "        vertical-align: middle;\n",
       "    }\n",
       "\n",
       "    .dataframe tbody tr th {\n",
       "        vertical-align: top;\n",
       "    }\n",
       "\n",
       "    .dataframe thead th {\n",
       "        text-align: right;\n",
       "    }\n",
       "</style>\n",
       "<table border=\"1\" class=\"dataframe\">\n",
       "  <thead>\n",
       "    <tr style=\"text-align: right;\">\n",
       "      <th></th>\n",
       "      <th>map</th>\n",
       "    </tr>\n",
       "    <tr>\n",
       "      <th>model_name</th>\n",
       "      <th></th>\n",
       "    </tr>\n",
       "  </thead>\n",
       "  <tbody>\n",
       "    <tr>\n",
       "      <th>n_users_5</th>\n",
       "      <td>0.096757</td>\n",
       "    </tr>\n",
       "    <tr>\n",
       "      <th>n_interactions_5</th>\n",
       "      <td>0.096757</td>\n",
       "    </tr>\n",
       "    <tr>\n",
       "      <th>n_interactions_4</th>\n",
       "      <td>0.096695</td>\n",
       "    </tr>\n",
       "    <tr>\n",
       "      <th>n_users_4</th>\n",
       "      <td>0.096695</td>\n",
       "    </tr>\n",
       "    <tr>\n",
       "      <th>n_interactions_3</th>\n",
       "      <td>0.096656</td>\n",
       "    </tr>\n",
       "    <tr>\n",
       "      <th>...</th>\n",
       "      <td>...</td>\n",
       "    </tr>\n",
       "    <tr>\n",
       "      <th>mean_weight_5</th>\n",
       "      <td>0.000106</td>\n",
       "    </tr>\n",
       "    <tr>\n",
       "      <th>mean_weight_6</th>\n",
       "      <td>0.000102</td>\n",
       "    </tr>\n",
       "    <tr>\n",
       "      <th>mean_weight_21</th>\n",
       "      <td>0.000098</td>\n",
       "    </tr>\n",
       "    <tr>\n",
       "      <th>mean_weight_2</th>\n",
       "      <td>0.000095</td>\n",
       "    </tr>\n",
       "    <tr>\n",
       "      <th>mean_weight_None</th>\n",
       "      <td>0.000003</td>\n",
       "    </tr>\n",
       "  </tbody>\n",
       "</table>\n",
       "<p>88 rows × 1 columns</p>\n",
       "</div>"
      ],
      "text/plain": [
       "                       map\n",
       "model_name                \n",
       "n_users_5         0.096757\n",
       "n_interactions_5  0.096757\n",
       "n_interactions_4  0.096695\n",
       "n_users_4         0.096695\n",
       "n_interactions_3  0.096656\n",
       "...                    ...\n",
       "mean_weight_5     0.000106\n",
       "mean_weight_6     0.000102\n",
       "mean_weight_21    0.000098\n",
       "mean_weight_2     0.000095\n",
       "mean_weight_None  0.000003\n",
       "\n",
       "[88 rows x 1 columns]"
      ]
     },
     "execution_count": 129,
     "metadata": {},
     "output_type": "execute_result"
    }
   ],
   "source": [
    "results_df.groupby(\"model_name\").mean().sort_values('map', ascending=False)"
   ]
  },
  {
   "cell_type": "code",
   "execution_count": 136,
   "id": "ee2afcb9-bbf0-4923-a0b9-05dd5cbde3d3",
   "metadata": {},
   "outputs": [],
   "source": [
    "dataset = Dataset.construct(\n",
    "    interactions_df=interactions,\n",
    "    user_features_df=None,\n",
    "    item_features_df=item_feat,\n",
    "    cat_item_features=['genre', 'release_year']\n",
    ")"
   ]
  },
  {
   "cell_type": "markdown",
   "id": "dd34561f-40fc-427e-85bc-ced3a411afe9",
   "metadata": {},
   "source": [
    "Модель с параметрами n_users, 5 дает наилучший прирост в метрике"
   ]
  },
  {
   "cell_type": "code",
   "execution_count": 152,
   "id": "6bd9e3ae-ff62-42cd-9931-e048059e2a4d",
   "metadata": {},
   "outputs": [],
   "source": [
    "submission_users = sample_submission[sample_submission['user_id'].isin(dataset.user_id_map.external_ids)]['user_id']"
   ]
  },
  {
   "cell_type": "code",
   "execution_count": 155,
   "id": "473145f0-7735-4049-87da-db6a834a9b90",
   "metadata": {},
   "outputs": [],
   "source": [
    "recs = models['n_users_5'].recommend(submission_users, dataset, 10, filter_viewed=True)"
   ]
  },
  {
   "cell_type": "code",
   "execution_count": 177,
   "id": "ee1eb703-43c5-460f-a0f6-0de99e85641e",
   "metadata": {},
   "outputs": [],
   "source": [
    "preds = []\n",
    "default = [9728, 15297, 10440, 14488, 13865, 12192, 341, 4151, 3734, 512]"
   ]
  },
  {
   "cell_type": "code",
   "execution_count": 178,
   "id": "739a8d30-8e02-4e18-a788-fcdd6673be31",
   "metadata": {},
   "outputs": [
    {
     "data": {
      "application/vnd.jupyter.widget-view+json": {
       "model_id": "727d0687ee7f42399124d31769eb6b41",
       "version_major": 2,
       "version_minor": 0
      },
      "text/plain": [
       "  0%|          | 0/193113 [00:00<?, ?it/s]"
      ]
     },
     "metadata": {},
     "output_type": "display_data"
    }
   ],
   "source": [
    "for i, user_id in tqdm(enumerate(sample_submission['user_id']), total=len(sample_submission)):\n",
    "    items = list(recs[recs.user_id == user_id]['item_id'])\n",
    "    \n",
    "    if items: \n",
    "        preds.append(items)\n",
    "    else:\n",
    "        preds.append(default)"
   ]
  },
  {
   "cell_type": "code",
   "execution_count": 180,
   "id": "3202c4e3-9165-43b4-9bb6-7c577116dab6",
   "metadata": {},
   "outputs": [],
   "source": [
    "sample_submission['item_id'] = preds"
   ]
  },
  {
   "cell_type": "code",
   "execution_count": 184,
   "id": "e7c0b8ba-d9c6-4afb-8d2c-0a8c1f74f847",
   "metadata": {},
   "outputs": [],
   "source": [
    "sample_submission.to_csv(\"submissions/popular_model.csv\", index=False)"
   ]
  },
  {
   "cell_type": "code",
   "execution_count": null,
   "id": "0f6383e5-405d-4c10-a3ea-98deea887811",
   "metadata": {},
   "outputs": [],
   "source": []
  }
 ],
 "metadata": {
  "kernelspec": {
   "display_name": "recsys",
   "language": "python",
   "name": "recsys"
  },
  "language_info": {
   "codemirror_mode": {
    "name": "ipython",
    "version": 3
   },
   "file_extension": ".py",
   "mimetype": "text/x-python",
   "name": "python",
   "nbconvert_exporter": "python",
   "pygments_lexer": "ipython3",
   "version": "3.8.15"
  }
 },
 "nbformat": 4,
 "nbformat_minor": 5
}
