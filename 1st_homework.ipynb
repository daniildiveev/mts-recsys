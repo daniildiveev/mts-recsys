{
 "cells": [
  {
   "cell_type": "markdown",
   "id": "3a73c44a-8f54-439d-a900-e6e2c70ad604",
   "metadata": {},
   "source": [
    "# Imports"
   ]
  },
  {
   "cell_type": "code",
   "execution_count": 131,
   "id": "27e89956-f63f-4d8b-90be-dd8613999ec3",
   "metadata": {},
   "outputs": [],
   "source": [
    "import warnings\n",
    "warnings.simplefilter('ignore')\n",
    "from datetime import timedelta\n",
    "from itertools import product\n",
    "from tqdm.notebook import tqdm\n",
    "import pandas as pd\n",
    "import numpy as np\n",
    "from rectools import Columns\n",
    "from rectools.models import PopularModel, PopularInCategoryModel\n",
    "from rectools.metrics import calc_metrics, MAP\n",
    "from rectools.dataset import Dataset, Interactions\n",
    "from rectools.model_selection import TimeRangeSplitter\n",
    "from models.popular_among_n_unique import PopularAmongNUniqueUsers"
   ]
  },
  {
   "cell_type": "markdown",
   "id": "0bfb3eae-64b5-44e2-969d-3bdbb963d26a",
   "metadata": {},
   "source": [
    "# Loading data"
   ]
  },
  {
   "cell_type": "code",
   "execution_count": 2,
   "id": "c908b15b-ab39-45a2-ae6f-0497b94b36cd",
   "metadata": {},
   "outputs": [],
   "source": [
    "interactions = pd.read_csv(\"data/interactions.csv\")\n",
    "items = pd.read_csv(\"data/items.csv\")\n",
    "users = pd.read_csv(\"data/users.csv\") "
   ]
  },
  {
   "cell_type": "code",
   "execution_count": 3,
   "id": "66ceaf06-7e7e-4984-b066-056aa07b13a3",
   "metadata": {},
   "outputs": [],
   "source": [
    "sample_submission = pd.read_csv(\"data/sample_submission.csv\")"
   ]
  },
  {
   "cell_type": "code",
   "execution_count": 4,
   "id": "78feb58a-7bc8-442f-9df3-dfce893e125e",
   "metadata": {},
   "outputs": [
    {
     "data": {
      "text/html": [
       "<div>\n",
       "<style scoped>\n",
       "    .dataframe tbody tr th:only-of-type {\n",
       "        vertical-align: middle;\n",
       "    }\n",
       "\n",
       "    .dataframe tbody tr th {\n",
       "        vertical-align: top;\n",
       "    }\n",
       "\n",
       "    .dataframe thead th {\n",
       "        text-align: right;\n",
       "    }\n",
       "</style>\n",
       "<table border=\"1\" class=\"dataframe\">\n",
       "  <thead>\n",
       "    <tr style=\"text-align: right;\">\n",
       "      <th></th>\n",
       "      <th>user_id</th>\n",
       "      <th>item_id</th>\n",
       "    </tr>\n",
       "  </thead>\n",
       "  <tbody>\n",
       "    <tr>\n",
       "      <th>0</th>\n",
       "      <td>3</td>\n",
       "      <td>[9728, 15297, 10440, 14488, 13865, 12192, 341,...</td>\n",
       "    </tr>\n",
       "    <tr>\n",
       "      <th>1</th>\n",
       "      <td>11</td>\n",
       "      <td>[9728, 15297, 10440, 14488, 13865, 12192, 341,...</td>\n",
       "    </tr>\n",
       "    <tr>\n",
       "      <th>2</th>\n",
       "      <td>29</td>\n",
       "      <td>[9728, 15297, 10440, 14488, 13865, 12192, 341,...</td>\n",
       "    </tr>\n",
       "    <tr>\n",
       "      <th>3</th>\n",
       "      <td>30</td>\n",
       "      <td>[9728, 15297, 10440, 14488, 13865, 12192, 341,...</td>\n",
       "    </tr>\n",
       "    <tr>\n",
       "      <th>4</th>\n",
       "      <td>33</td>\n",
       "      <td>[9728, 15297, 10440, 14488, 13865, 12192, 341,...</td>\n",
       "    </tr>\n",
       "    <tr>\n",
       "      <th>...</th>\n",
       "      <td>...</td>\n",
       "      <td>...</td>\n",
       "    </tr>\n",
       "    <tr>\n",
       "      <th>193108</th>\n",
       "      <td>1097527</td>\n",
       "      <td>[9728, 15297, 10440, 14488, 13865, 12192, 341,...</td>\n",
       "    </tr>\n",
       "    <tr>\n",
       "      <th>193109</th>\n",
       "      <td>1097537</td>\n",
       "      <td>[9728, 15297, 10440, 14488, 13865, 12192, 341,...</td>\n",
       "    </tr>\n",
       "    <tr>\n",
       "      <th>193110</th>\n",
       "      <td>1097538</td>\n",
       "      <td>[9728, 15297, 10440, 14488, 13865, 12192, 341,...</td>\n",
       "    </tr>\n",
       "    <tr>\n",
       "      <th>193111</th>\n",
       "      <td>1097544</td>\n",
       "      <td>[9728, 15297, 10440, 14488, 13865, 12192, 341,...</td>\n",
       "    </tr>\n",
       "    <tr>\n",
       "      <th>193112</th>\n",
       "      <td>1097558</td>\n",
       "      <td>[9728, 15297, 10440, 14488, 13865, 12192, 341,...</td>\n",
       "    </tr>\n",
       "  </tbody>\n",
       "</table>\n",
       "<p>193113 rows × 2 columns</p>\n",
       "</div>"
      ],
      "text/plain": [
       "        user_id                                            item_id\n",
       "0             3  [9728, 15297, 10440, 14488, 13865, 12192, 341,...\n",
       "1            11  [9728, 15297, 10440, 14488, 13865, 12192, 341,...\n",
       "2            29  [9728, 15297, 10440, 14488, 13865, 12192, 341,...\n",
       "3            30  [9728, 15297, 10440, 14488, 13865, 12192, 341,...\n",
       "4            33  [9728, 15297, 10440, 14488, 13865, 12192, 341,...\n",
       "...         ...                                                ...\n",
       "193108  1097527  [9728, 15297, 10440, 14488, 13865, 12192, 341,...\n",
       "193109  1097537  [9728, 15297, 10440, 14488, 13865, 12192, 341,...\n",
       "193110  1097538  [9728, 15297, 10440, 14488, 13865, 12192, 341,...\n",
       "193111  1097544  [9728, 15297, 10440, 14488, 13865, 12192, 341,...\n",
       "193112  1097558  [9728, 15297, 10440, 14488, 13865, 12192, 341,...\n",
       "\n",
       "[193113 rows x 2 columns]"
      ]
     },
     "execution_count": 4,
     "metadata": {},
     "output_type": "execute_result"
    }
   ],
   "source": [
    "sample_submission"
   ]
  },
  {
   "cell_type": "markdown",
   "id": "9ab8ad03-8492-47ea-8661-30ed13e820ed",
   "metadata": {},
   "source": [
    "# Data preprocessing"
   ]
  },
  {
   "cell_type": "code",
   "execution_count": 5,
   "id": "a101ab82-796e-4b9f-a142-e94dfa364399",
   "metadata": {},
   "outputs": [],
   "source": [
    "interactions.rename(\n",
    "    columns={\n",
    "        'track_id' : Columns.Item,\n",
    "        'last_watch_dt' : Columns.Datetime,\n",
    "        'total_dur' : Columns.Weight\n",
    "    },\n",
    "    inplace=True\n",
    ")"
   ]
  },
  {
   "cell_type": "code",
   "execution_count": 6,
   "id": "802412d7-9a47-4b34-bf85-9ff1ef42e59b",
   "metadata": {},
   "outputs": [
    {
     "data": {
      "text/html": [
       "<div>\n",
       "<style scoped>\n",
       "    .dataframe tbody tr th:only-of-type {\n",
       "        vertical-align: middle;\n",
       "    }\n",
       "\n",
       "    .dataframe tbody tr th {\n",
       "        vertical-align: top;\n",
       "    }\n",
       "\n",
       "    .dataframe thead th {\n",
       "        text-align: right;\n",
       "    }\n",
       "</style>\n",
       "<table border=\"1\" class=\"dataframe\">\n",
       "  <thead>\n",
       "    <tr style=\"text-align: right;\">\n",
       "      <th></th>\n",
       "      <th>item_id</th>\n",
       "      <th>value</th>\n",
       "      <th>feature</th>\n",
       "    </tr>\n",
       "  </thead>\n",
       "  <tbody>\n",
       "    <tr>\n",
       "      <th>0</th>\n",
       "      <td>10711</td>\n",
       "      <td>1983.0</td>\n",
       "      <td>release_year</td>\n",
       "    </tr>\n",
       "    <tr>\n",
       "      <th>1</th>\n",
       "      <td>2508</td>\n",
       "      <td>2012.0</td>\n",
       "      <td>release_year</td>\n",
       "    </tr>\n",
       "    <tr>\n",
       "      <th>2</th>\n",
       "      <td>10716</td>\n",
       "      <td>2009.0</td>\n",
       "      <td>release_year</td>\n",
       "    </tr>\n",
       "    <tr>\n",
       "      <th>3</th>\n",
       "      <td>7868</td>\n",
       "      <td>2014.0</td>\n",
       "      <td>release_year</td>\n",
       "    </tr>\n",
       "    <tr>\n",
       "      <th>4</th>\n",
       "      <td>16268</td>\n",
       "      <td>1897.0</td>\n",
       "      <td>release_year</td>\n",
       "    </tr>\n",
       "  </tbody>\n",
       "</table>\n",
       "</div>"
      ],
      "text/plain": [
       "   item_id   value       feature\n",
       "0    10711  1983.0  release_year\n",
       "1     2508  2012.0  release_year\n",
       "2    10716  2009.0  release_year\n",
       "3     7868  2014.0  release_year\n",
       "4    16268  1897.0  release_year"
      ]
     },
     "execution_count": 6,
     "metadata": {},
     "output_type": "execute_result"
    }
   ],
   "source": [
    "_, bins = pd.qcut(items[\"release_year\"], 10, retbins=True)\n",
    "labels = bins[:-1]\n",
    "\n",
    "year_feature = pd.DataFrame(\n",
    "    {\n",
    "        Columns.Item: items[Columns.Item],\n",
    "        \"value\": pd.cut(items[\"release_year\"], bins=bins, labels=bins[:-1]),\n",
    "        \"feature\": \"release_year\",\n",
    "    }\n",
    ")\n",
    "year_feature.head()"
   ]
  },
  {
   "cell_type": "code",
   "execution_count": 7,
   "id": "2aba9956-e7d5-4faf-a325-2b265790b0a9",
   "metadata": {},
   "outputs": [],
   "source": [
    "items['genre'] = items['genres'].str.split(\",\")"
   ]
  },
  {
   "cell_type": "code",
   "execution_count": 8,
   "id": "9bef7a8d-39a3-470c-8ff8-d3545a5dace5",
   "metadata": {},
   "outputs": [
    {
     "data": {
      "text/html": [
       "<div>\n",
       "<style scoped>\n",
       "    .dataframe tbody tr th:only-of-type {\n",
       "        vertical-align: middle;\n",
       "    }\n",
       "\n",
       "    .dataframe tbody tr th {\n",
       "        vertical-align: top;\n",
       "    }\n",
       "\n",
       "    .dataframe thead th {\n",
       "        text-align: right;\n",
       "    }\n",
       "</style>\n",
       "<table border=\"1\" class=\"dataframe\">\n",
       "  <thead>\n",
       "    <tr style=\"text-align: right;\">\n",
       "      <th></th>\n",
       "      <th>item_id</th>\n",
       "      <th>value</th>\n",
       "      <th>feature</th>\n",
       "    </tr>\n",
       "  </thead>\n",
       "  <tbody>\n",
       "    <tr>\n",
       "      <th>0</th>\n",
       "      <td>10711</td>\n",
       "      <td>драмы</td>\n",
       "      <td>genre</td>\n",
       "    </tr>\n",
       "    <tr>\n",
       "      <th>0</th>\n",
       "      <td>10711</td>\n",
       "      <td>зарубежные</td>\n",
       "      <td>genre</td>\n",
       "    </tr>\n",
       "    <tr>\n",
       "      <th>0</th>\n",
       "      <td>10711</td>\n",
       "      <td>детективы</td>\n",
       "      <td>genre</td>\n",
       "    </tr>\n",
       "    <tr>\n",
       "      <th>0</th>\n",
       "      <td>10711</td>\n",
       "      <td>мелодрамы</td>\n",
       "      <td>genre</td>\n",
       "    </tr>\n",
       "    <tr>\n",
       "      <th>1</th>\n",
       "      <td>2508</td>\n",
       "      <td>зарубежные</td>\n",
       "      <td>genre</td>\n",
       "    </tr>\n",
       "  </tbody>\n",
       "</table>\n",
       "</div>"
      ],
      "text/plain": [
       "   item_id        value feature\n",
       "0    10711        драмы   genre\n",
       "0    10711   зарубежные   genre\n",
       "0    10711    детективы   genre\n",
       "0    10711    мелодрамы   genre\n",
       "1     2508   зарубежные   genre"
      ]
     },
     "execution_count": 8,
     "metadata": {},
     "output_type": "execute_result"
    }
   ],
   "source": [
    "genre_feature = items[[Columns.Item, \"genre\"]].explode(\"genre\")\n",
    "genre_feature.columns = [Columns.Item, \"value\"]\n",
    "genre_feature[\"feature\"] = \"genre\"\n",
    "genre_feature.head()"
   ]
  },
  {
   "cell_type": "code",
   "execution_count": 9,
   "id": "883d9a9e-f97d-484b-99fb-b6d209c5d509",
   "metadata": {},
   "outputs": [],
   "source": [
    "item_feat = pd.concat([genre_feature, year_feature])\n",
    "item_feat = item_feat[item_feat[Columns.Item].isin(interactions[Columns.Item])]"
   ]
  },
  {
   "cell_type": "code",
   "execution_count": 127,
   "id": "d78f60e8-9097-4be7-9021-af1f739377d5",
   "metadata": {},
   "outputs": [
    {
     "data": {
      "text/html": [
       "<div>\n",
       "<style scoped>\n",
       "    .dataframe tbody tr th:only-of-type {\n",
       "        vertical-align: middle;\n",
       "    }\n",
       "\n",
       "    .dataframe tbody tr th {\n",
       "        vertical-align: top;\n",
       "    }\n",
       "\n",
       "    .dataframe thead th {\n",
       "        text-align: right;\n",
       "    }\n",
       "</style>\n",
       "<table border=\"1\" class=\"dataframe\">\n",
       "  <thead>\n",
       "    <tr style=\"text-align: right;\">\n",
       "      <th></th>\n",
       "      <th>item_id</th>\n",
       "      <th>value</th>\n",
       "      <th>feature</th>\n",
       "    </tr>\n",
       "  </thead>\n",
       "  <tbody>\n",
       "    <tr>\n",
       "      <th>15960</th>\n",
       "      <td>10632</td>\n",
       "      <td>Амир Камдин</td>\n",
       "      <td>director</td>\n",
       "    </tr>\n",
       "    <tr>\n",
       "      <th>15960</th>\n",
       "      <td>10632</td>\n",
       "      <td>Эрик Эгер</td>\n",
       "      <td>director</td>\n",
       "    </tr>\n",
       "    <tr>\n",
       "      <th>15961</th>\n",
       "      <td>4538</td>\n",
       "      <td>Марк О’Коннор</td>\n",
       "      <td>director</td>\n",
       "    </tr>\n",
       "    <tr>\n",
       "      <th>15961</th>\n",
       "      <td>4538</td>\n",
       "      <td>Конор МакМахон</td>\n",
       "      <td>director</td>\n",
       "    </tr>\n",
       "    <tr>\n",
       "      <th>15962</th>\n",
       "      <td>3206</td>\n",
       "      <td>Михаил Миронов</td>\n",
       "      <td>director</td>\n",
       "    </tr>\n",
       "  </tbody>\n",
       "</table>\n",
       "</div>"
      ],
      "text/plain": [
       "       item_id            value   feature\n",
       "15960    10632      Амир Камдин  director\n",
       "15960    10632        Эрик Эгер  director\n",
       "15961     4538    Марк О’Коннор  director\n",
       "15961     4538   Конор МакМахон  director\n",
       "15962     3206   Михаил Миронов  director"
      ]
     },
     "execution_count": 127,
     "metadata": {},
     "output_type": "execute_result"
    }
   ],
   "source": [
    "items['director'] = items['directors'].str.split(\",\")\n",
    "director_feature = items[[Columns.Item, \"director\"]].explode(\"director\")\n",
    "director_feature.columns = [Columns.Item, \"value\"]\n",
    "director_feature[\"feature\"] = \"director\"\n",
    "director_feature.tail()"
   ]
  },
  {
   "cell_type": "code",
   "execution_count": 128,
   "id": "2c14f940-647f-4442-afa2-1a35c707bc02",
   "metadata": {},
   "outputs": [],
   "source": [
    "item_feat = pd.concat([genre_feature, year_feature, director_feature])\n",
    "item_feat = item_feat[item_feat[Columns.Item].isin(interactions[Columns.Item])]"
   ]
  },
  {
   "cell_type": "code",
   "execution_count": 129,
   "id": "fe27b72f-fbcb-47e0-8de6-8bde9b1b3d12",
   "metadata": {},
   "outputs": [
    {
     "data": {
      "text/html": [
       "<div>\n",
       "<style scoped>\n",
       "    .dataframe tbody tr th:only-of-type {\n",
       "        vertical-align: middle;\n",
       "    }\n",
       "\n",
       "    .dataframe tbody tr th {\n",
       "        vertical-align: top;\n",
       "    }\n",
       "\n",
       "    .dataframe thead th {\n",
       "        text-align: right;\n",
       "    }\n",
       "</style>\n",
       "<table border=\"1\" class=\"dataframe\">\n",
       "  <thead>\n",
       "    <tr style=\"text-align: right;\">\n",
       "      <th></th>\n",
       "      <th>item_id</th>\n",
       "      <th>value</th>\n",
       "      <th>feature</th>\n",
       "    </tr>\n",
       "  </thead>\n",
       "  <tbody>\n",
       "    <tr>\n",
       "      <th>0</th>\n",
       "      <td>10711</td>\n",
       "      <td>драмы</td>\n",
       "      <td>genre</td>\n",
       "    </tr>\n",
       "    <tr>\n",
       "      <th>0</th>\n",
       "      <td>10711</td>\n",
       "      <td>зарубежные</td>\n",
       "      <td>genre</td>\n",
       "    </tr>\n",
       "    <tr>\n",
       "      <th>0</th>\n",
       "      <td>10711</td>\n",
       "      <td>детективы</td>\n",
       "      <td>genre</td>\n",
       "    </tr>\n",
       "    <tr>\n",
       "      <th>0</th>\n",
       "      <td>10711</td>\n",
       "      <td>мелодрамы</td>\n",
       "      <td>genre</td>\n",
       "    </tr>\n",
       "    <tr>\n",
       "      <th>1</th>\n",
       "      <td>2508</td>\n",
       "      <td>зарубежные</td>\n",
       "      <td>genre</td>\n",
       "    </tr>\n",
       "    <tr>\n",
       "      <th>...</th>\n",
       "      <td>...</td>\n",
       "      <td>...</td>\n",
       "      <td>...</td>\n",
       "    </tr>\n",
       "    <tr>\n",
       "      <th>15960</th>\n",
       "      <td>10632</td>\n",
       "      <td>Амир Камдин</td>\n",
       "      <td>director</td>\n",
       "    </tr>\n",
       "    <tr>\n",
       "      <th>15960</th>\n",
       "      <td>10632</td>\n",
       "      <td>Эрик Эгер</td>\n",
       "      <td>director</td>\n",
       "    </tr>\n",
       "    <tr>\n",
       "      <th>15961</th>\n",
       "      <td>4538</td>\n",
       "      <td>Марк О’Коннор</td>\n",
       "      <td>director</td>\n",
       "    </tr>\n",
       "    <tr>\n",
       "      <th>15961</th>\n",
       "      <td>4538</td>\n",
       "      <td>Конор МакМахон</td>\n",
       "      <td>director</td>\n",
       "    </tr>\n",
       "    <tr>\n",
       "      <th>15962</th>\n",
       "      <td>3206</td>\n",
       "      <td>Михаил Миронов</td>\n",
       "      <td>director</td>\n",
       "    </tr>\n",
       "  </tbody>\n",
       "</table>\n",
       "<p>74704 rows × 3 columns</p>\n",
       "</div>"
      ],
      "text/plain": [
       "       item_id            value   feature\n",
       "0        10711            драмы     genre\n",
       "0        10711       зарубежные     genre\n",
       "0        10711        детективы     genre\n",
       "0        10711        мелодрамы     genre\n",
       "1         2508       зарубежные     genre\n",
       "...        ...              ...       ...\n",
       "15960    10632      Амир Камдин  director\n",
       "15960    10632        Эрик Эгер  director\n",
       "15961     4538    Марк О’Коннор  director\n",
       "15961     4538   Конор МакМахон  director\n",
       "15962     3206   Михаил Миронов  director\n",
       "\n",
       "[74704 rows x 3 columns]"
      ]
     },
     "execution_count": 129,
     "metadata": {},
     "output_type": "execute_result"
    }
   ],
   "source": [
    "item_feat"
   ]
  },
  {
   "cell_type": "code",
   "execution_count": 11,
   "id": "51864f2c-8729-4d46-b3cf-2727d71ccc09",
   "metadata": {},
   "outputs": [
    {
     "name": "stdout",
     "output_type": "stream",
     "text": [
      "\n",
      "    start_date: 2021-07-26 00:00:00\n",
      "    last_date: 2021-08-15 00:00:00\n",
      "    periods: 4\n",
      "    freq: 7D\n",
      "\n"
     ]
    }
   ],
   "source": [
    "n_folds = 3\n",
    "unit = \"D\"\n",
    "n_units = 7\n",
    "# last_date = interactions[Columns.Datetime].max().normalize()\n",
    "last_date = pd.to_datetime('15-08-2021', format='%d-%m-%Y')\n",
    "\n",
    "\n",
    "start_date = last_date - pd.Timedelta(n_folds * n_units - 1, unit=unit)\n",
    "periods = n_folds + 1\n",
    "freq = f\"{n_units}{unit}\"\n",
    "print(f\"\"\"\n",
    "    start_date: {start_date}\n",
    "    last_date: {last_date}\n",
    "    periods: {periods}\n",
    "    freq: {freq}\n",
    "\"\"\")\n",
    "\n",
    "date_range = pd.date_range(start=start_date, periods=periods, freq=freq, tz=last_date.tz)"
   ]
  },
  {
   "cell_type": "code",
   "execution_count": 12,
   "id": "d1ae2fdb-d111-45c6-a70a-43f719b4da04",
   "metadata": {},
   "outputs": [],
   "source": [
    "splitter = TimeRangeSplitter(date_range=date_range)\n",
    "interactions_ = Interactions(interactions)"
   ]
  },
  {
   "cell_type": "markdown",
   "id": "db8a061f-0741-41a0-92bd-eb43a5cca4cd",
   "metadata": {},
   "source": [
    "# Hypeparameter tuning and fitting simple Popular model"
   ]
  },
  {
   "cell_type": "code",
   "execution_count": 121,
   "id": "08f40cd9-15e8-4d30-b96d-db28af4bd6eb",
   "metadata": {},
   "outputs": [],
   "source": [
    "model_parameters = {\n",
    "    \"popularity\": [\"n_users\", \"n_interactions\", \"sum_weight\", \"mean_weight\"], \n",
    "    \"period\" : [None] + [i for i in range(1, 22)]\n",
    "}"
   ]
  },
  {
   "cell_type": "code",
   "execution_count": 122,
   "id": "5cec6be5-4e9f-4287-acbb-5a30ff8919da",
   "metadata": {},
   "outputs": [],
   "source": [
    "parameter_grid = tuple(product(*list(model_parameters.values())))"
   ]
  },
  {
   "cell_type": "code",
   "execution_count": 123,
   "id": "1f8b61b4-d567-416c-80ed-ba8d4da7f577",
   "metadata": {
    "tags": []
   },
   "outputs": [],
   "source": [
    "folds = splitter.split(interactions_)\n",
    "\n",
    "metrics = {\n",
    "    'MAP@10' : MAP(k=10), \n",
    "}\n",
    "\n",
    "results = {\n",
    "    \"model_name\" : [],\n",
    "    \"map\" : []\n",
    "}\n",
    "\n",
    "models = {}"
   ]
  },
  {
   "cell_type": "code",
   "execution_count": 124,
   "id": "b81f04b1-6d13-4bce-94bd-4bf12dd4706d",
   "metadata": {
    "tags": []
   },
   "outputs": [
    {
     "data": {
      "application/vnd.jupyter.widget-view+json": {
       "model_id": "21efe592d226424f94d16e76daf12020",
       "version_major": 2,
       "version_minor": 0
      },
      "text/plain": [
       "  0%|          | 0/3 [00:00<?, ?it/s]"
      ]
     },
     "metadata": {},
     "output_type": "display_data"
    },
    {
     "data": {
      "application/vnd.jupyter.widget-view+json": {
       "model_id": "f44695cedc74454197794ee1568a943d",
       "version_major": 2,
       "version_minor": 0
      },
      "text/plain": [
       "  0%|          | 0/88 [00:00<?, ?it/s]"
      ]
     },
     "metadata": {},
     "output_type": "display_data"
    },
    {
     "data": {
      "application/vnd.jupyter.widget-view+json": {
       "model_id": "a2725c2e685a4a18a093ab62d348297e",
       "version_major": 2,
       "version_minor": 0
      },
      "text/plain": [
       "  0%|          | 0/88 [00:00<?, ?it/s]"
      ]
     },
     "metadata": {},
     "output_type": "display_data"
    },
    {
     "data": {
      "application/vnd.jupyter.widget-view+json": {
       "model_id": "bc93361e7b1b4e8792982acc663dce5d",
       "version_major": 2,
       "version_minor": 0
      },
      "text/plain": [
       "  0%|          | 0/88 [00:00<?, ?it/s]"
      ]
     },
     "metadata": {},
     "output_type": "display_data"
    }
   ],
   "source": [
    "for i, (train_ids, test_ids, _) in tqdm(enumerate(folds), total=splitter.get_n_splits(interactions_)):\n",
    "    df_train = interactions_.df.iloc[train_ids]\n",
    "    item_feat_train = item_feat[item_feat[Columns.Item].isin(df_train[Columns.Item])]\n",
    "\n",
    "    dataset = Dataset.construct(\n",
    "        df_train,\n",
    "        None,\n",
    "        item_feat_train,\n",
    "        cat_item_features=['genre', 'release_year']\n",
    "    )\n",
    "\n",
    "    df_test = interactions_.df.iloc[test_ids][Columns.UserItem]\n",
    "    test_users = np.unique(df_test[Columns.User])\n",
    "    \n",
    "    for params in tqdm(parameter_grid):\n",
    "        model = PopularModel(popularity=params[0], period=pd.to_timedelta(params[1], unit='D'))\n",
    "        model.fit(dataset)\n",
    "\n",
    "        recos = model.recommend(\n",
    "            users = test_users,\n",
    "            dataset=dataset,\n",
    "            k=10,\n",
    "            filter_viewed=True\n",
    "        )t\n",
    "\n",
    "        metric_values = calc_metrics(\n",
    "            metrics,\n",
    "            reco=recos,\n",
    "            interactions=df_test,\n",
    "            prev_interactions=df_train\n",
    "        )\n",
    "        \n",
    "        results['model_name'].append(f\"{params[0]}_{params[1]}\")\n",
    "        results['map'].append(metric_values[\"MAP@10\"])\n",
    "        \n",
    "        models[f\"{params[0]}_{params[1]}\"] = model"
   ]
  },
  {
   "cell_type": "code",
   "execution_count": 128,
   "id": "6355c7f5-937f-4bc5-b58a-d82ad8a52127",
   "metadata": {},
   "outputs": [],
   "source": [
    "results_df = pd.DataFrame(data=results)"
   ]
  },
  {
   "cell_type": "code",
   "execution_count": 129,
   "id": "00613799-9927-4d58-8d05-7d836b7234c7",
   "metadata": {},
   "outputs": [
    {
     "data": {
      "text/html": [
       "<div>\n",
       "<style scoped>\n",
       "    .dataframe tbody tr th:only-of-type {\n",
       "        vertical-align: middle;\n",
       "    }\n",
       "\n",
       "    .dataframe tbody tr th {\n",
       "        vertical-align: top;\n",
       "    }\n",
       "\n",
       "    .dataframe thead th {\n",
       "        text-align: right;\n",
       "    }\n",
       "</style>\n",
       "<table border=\"1\" class=\"dataframe\">\n",
       "  <thead>\n",
       "    <tr style=\"text-align: right;\">\n",
       "      <th></th>\n",
       "      <th>map</th>\n",
       "    </tr>\n",
       "    <tr>\n",
       "      <th>model_name</th>\n",
       "      <th></th>\n",
       "    </tr>\n",
       "  </thead>\n",
       "  <tbody>\n",
       "    <tr>\n",
       "      <th>n_users_5</th>\n",
       "      <td>0.096757</td>\n",
       "    </tr>\n",
       "    <tr>\n",
       "      <th>n_interactions_5</th>\n",
       "      <td>0.096757</td>\n",
       "    </tr>\n",
       "    <tr>\n",
       "      <th>n_interactions_4</th>\n",
       "      <td>0.096695</td>\n",
       "    </tr>\n",
       "    <tr>\n",
       "      <th>n_users_4</th>\n",
       "      <td>0.096695</td>\n",
       "    </tr>\n",
       "    <tr>\n",
       "      <th>n_interactions_3</th>\n",
       "      <td>0.096656</td>\n",
       "    </tr>\n",
       "    <tr>\n",
       "      <th>...</th>\n",
       "      <td>...</td>\n",
       "    </tr>\n",
       "    <tr>\n",
       "      <th>mean_weight_5</th>\n",
       "      <td>0.000106</td>\n",
       "    </tr>\n",
       "    <tr>\n",
       "      <th>mean_weight_6</th>\n",
       "      <td>0.000102</td>\n",
       "    </tr>\n",
       "    <tr>\n",
       "      <th>mean_weight_21</th>\n",
       "      <td>0.000098</td>\n",
       "    </tr>\n",
       "    <tr>\n",
       "      <th>mean_weight_2</th>\n",
       "      <td>0.000095</td>\n",
       "    </tr>\n",
       "    <tr>\n",
       "      <th>mean_weight_None</th>\n",
       "      <td>0.000003</td>\n",
       "    </tr>\n",
       "  </tbody>\n",
       "</table>\n",
       "<p>88 rows × 1 columns</p>\n",
       "</div>"
      ],
      "text/plain": [
       "                       map\n",
       "model_name                \n",
       "n_users_5         0.096757\n",
       "n_interactions_5  0.096757\n",
       "n_interactions_4  0.096695\n",
       "n_users_4         0.096695\n",
       "n_interactions_3  0.096656\n",
       "...                    ...\n",
       "mean_weight_5     0.000106\n",
       "mean_weight_6     0.000102\n",
       "mean_weight_21    0.000098\n",
       "mean_weight_2     0.000095\n",
       "mean_weight_None  0.000003\n",
       "\n",
       "[88 rows x 1 columns]"
      ]
     },
     "execution_count": 129,
     "metadata": {},
     "output_type": "execute_result"
    }
   ],
   "source": [
    "results_df.groupby(\"model_name\").mean().sort_values('map', ascending=False)"
   ]
  },
  {
   "cell_type": "code",
   "execution_count": 136,
   "id": "ee2afcb9-bbf0-4923-a0b9-05dd5cbde3d3",
   "metadata": {},
   "outputs": [],
   "source": [
    "dataset = Dataset.construct(\n",
    "    interactions_df=interactions,\n",
    "    user_features_df=None,\n",
    "    item_features_df=item_feat,\n",
    "    cat_item_features=['genre', 'release_year']\n",
    ")"
   ]
  },
  {
   "cell_type": "markdown",
   "id": "dd34561f-40fc-427e-85bc-ced3a411afe9",
   "metadata": {},
   "source": [
    "Модель с параметрами n_users, 5 дает наилучший прирост в метрике"
   ]
  },
  {
   "cell_type": "code",
   "execution_count": 161,
   "id": "6bd9e3ae-ff62-42cd-9931-e048059e2a4d",
   "metadata": {},
   "outputs": [],
   "source": [
    "submission_users = sample_submission[sample_submission['user_id'].isin(dataset.user_id_map.external_ids)]['user_id']"
   ]
  },
  {
   "cell_type": "code",
   "execution_count": 155,
   "id": "473145f0-7735-4049-87da-db6a834a9b90",
   "metadata": {},
   "outputs": [],
   "source": [
    "recs = models['n_users_5'].recommend(submission_users, dataset, 10, filter_viewed=True)"
   ]
  },
  {
   "cell_type": "code",
   "execution_count": 162,
   "id": "ee1eb703-43c5-460f-a0f6-0de99e85641e",
   "metadata": {},
   "outputs": [],
   "source": [
    "preds = []\n",
    "default = [9728, 15297, 10440, 14488, 13865, 12192, 341, 4151, 3734, 512]"
   ]
  },
  {
   "cell_type": "code",
   "execution_count": 178,
   "id": "739a8d30-8e02-4e18-a788-fcdd6673be31",
   "metadata": {},
   "outputs": [
    {
     "data": {
      "application/vnd.jupyter.widget-view+json": {
       "model_id": "727d0687ee7f42399124d31769eb6b41",
       "version_major": 2,
       "version_minor": 0
      },
      "text/plain": [
       "  0%|          | 0/193113 [00:00<?, ?it/s]"
      ]
     },
     "metadata": {},
     "output_type": "display_data"
    }
   ],
   "source": [
    "for i, user_id in tqdm(enumerate(sample_submission['user_id']), total=len(sample_submission)):\n",
    "    items = list(recs[recs.user_id == user_id]['item_id'])\n",
    "    \n",
    "    if items: \n",
    "        preds.append(items)\n",
    "    else:\n",
    "        preds.append(default)"
   ]
  },
  {
   "cell_type": "code",
   "execution_count": 180,
   "id": "3202c4e3-9165-43b4-9bb6-7c577116dab6",
   "metadata": {},
   "outputs": [],
   "source": [
    "sample_submission['item_id'] = preds"
   ]
  },
  {
   "cell_type": "code",
   "execution_count": 184,
   "id": "e7c0b8ba-d9c6-4afb-8d2c-0a8c1f74f847",
   "metadata": {},
   "outputs": [],
   "source": [
    "sample_submission.to_csv(\"submissions/popular_model.csv\", index=False)"
   ]
  },
  {
   "cell_type": "markdown",
   "id": "12e00c18-ebb4-493e-9fa1-69270957fa69",
   "metadata": {},
   "source": [
    "# Hypeparameter tuning and fitting Popular among N percent of users model"
   ]
  },
  {
   "cell_type": "code",
   "execution_count": 89,
   "id": "4f31fccf-0888-4e80-9895-153269be16fc",
   "metadata": {},
   "outputs": [],
   "source": [
    "popularity_types = [\"n_users\", \"n_interactions\", \"sum_score\", \"mean_score\"]"
   ]
  },
  {
   "cell_type": "code",
   "execution_count": 100,
   "id": "4119f585-6b8d-4331-abc5-8d6e86e91080",
   "metadata": {},
   "outputs": [
    {
     "data": {
      "application/vnd.jupyter.widget-view+json": {
       "model_id": "0233607c14f840fd8d7dd03d81e5bb06",
       "version_major": 2,
       "version_minor": 0
      },
      "text/plain": [
       "  0%|          | 0/3 [00:00<?, ?it/s]"
      ]
     },
     "metadata": {},
     "output_type": "display_data"
    },
    {
     "data": {
      "application/vnd.jupyter.widget-view+json": {
       "model_id": "6c06533949d14103851894ac712ef415",
       "version_major": 2,
       "version_minor": 0
      },
      "text/plain": [
       "Getting recommendations :   0%|          | 0/94910 [00:00<?, ?it/s]"
      ]
     },
     "metadata": {},
     "output_type": "display_data"
    },
    {
     "data": {
      "application/vnd.jupyter.widget-view+json": {
       "model_id": "93aedceb87804b5b9bf928e841560019",
       "version_major": 2,
       "version_minor": 0
      },
      "text/plain": [
       "Getting recommendations :   0%|          | 0/94910 [00:00<?, ?it/s]"
      ]
     },
     "metadata": {},
     "output_type": "display_data"
    },
    {
     "data": {
      "application/vnd.jupyter.widget-view+json": {
       "model_id": "8da473789274472295edeea185025b24",
       "version_major": 2,
       "version_minor": 0
      },
      "text/plain": [
       "Getting recommendations :   0%|          | 0/94910 [00:00<?, ?it/s]"
      ]
     },
     "metadata": {},
     "output_type": "display_data"
    },
    {
     "data": {
      "application/vnd.jupyter.widget-view+json": {
       "model_id": "0d59c7e7b76b4c97a6278b345e626b60",
       "version_major": 2,
       "version_minor": 0
      },
      "text/plain": [
       "Getting recommendations :   0%|          | 0/94910 [00:00<?, ?it/s]"
      ]
     },
     "metadata": {},
     "output_type": "display_data"
    },
    {
     "data": {
      "application/vnd.jupyter.widget-view+json": {
       "model_id": "c38eb83b370a4800a16fe3d956c948bb",
       "version_major": 2,
       "version_minor": 0
      },
      "text/plain": [
       "Getting recommendations :   0%|          | 0/98184 [00:00<?, ?it/s]"
      ]
     },
     "metadata": {},
     "output_type": "display_data"
    },
    {
     "data": {
      "application/vnd.jupyter.widget-view+json": {
       "model_id": "c714fcb9acab448a948a8601e0dd5038",
       "version_major": 2,
       "version_minor": 0
      },
      "text/plain": [
       "Getting recommendations :   0%|          | 0/98184 [00:00<?, ?it/s]"
      ]
     },
     "metadata": {},
     "output_type": "display_data"
    },
    {
     "data": {
      "application/vnd.jupyter.widget-view+json": {
       "model_id": "e053df26624b41709217a87457512314",
       "version_major": 2,
       "version_minor": 0
      },
      "text/plain": [
       "Getting recommendations :   0%|          | 0/98184 [00:00<?, ?it/s]"
      ]
     },
     "metadata": {},
     "output_type": "display_data"
    },
    {
     "data": {
      "application/vnd.jupyter.widget-view+json": {
       "model_id": "2c81991ee6df4a1085e1fad190b9dfd8",
       "version_major": 2,
       "version_minor": 0
      },
      "text/plain": [
       "Getting recommendations :   0%|          | 0/98184 [00:00<?, ?it/s]"
      ]
     },
     "metadata": {},
     "output_type": "display_data"
    },
    {
     "data": {
      "application/vnd.jupyter.widget-view+json": {
       "model_id": "a2cb46a8e0a7483c9e78bc28454ef09f",
       "version_major": 2,
       "version_minor": 0
      },
      "text/plain": [
       "Getting recommendations :   0%|          | 0/103511 [00:00<?, ?it/s]"
      ]
     },
     "metadata": {},
     "output_type": "display_data"
    },
    {
     "data": {
      "application/vnd.jupyter.widget-view+json": {
       "model_id": "04f3b86012974c6393cce14df01833a3",
       "version_major": 2,
       "version_minor": 0
      },
      "text/plain": [
       "Getting recommendations :   0%|          | 0/103511 [00:00<?, ?it/s]"
      ]
     },
     "metadata": {},
     "output_type": "display_data"
    },
    {
     "data": {
      "application/vnd.jupyter.widget-view+json": {
       "model_id": "564390ab150a4101bde7244b7d36a0a3",
       "version_major": 2,
       "version_minor": 0
      },
      "text/plain": [
       "Getting recommendations :   0%|          | 0/103511 [00:00<?, ?it/s]"
      ]
     },
     "metadata": {},
     "output_type": "display_data"
    },
    {
     "data": {
      "application/vnd.jupyter.widget-view+json": {
       "model_id": "461be061b7e64de2b6306f76ccac27b3",
       "version_major": 2,
       "version_minor": 0
      },
      "text/plain": [
       "Getting recommendations :   0%|          | 0/103511 [00:00<?, ?it/s]"
      ]
     },
     "metadata": {},
     "output_type": "display_data"
    }
   ],
   "source": [
    "folds = splitter.split(interactions_)\n",
    "\n",
    "metrics = {\n",
    "    'MAP@10' : MAP(k=10), \n",
    "}\n",
    "\n",
    "results = {\n",
    "    \"model_name\" : [],\n",
    "    \"map\" : []\n",
    "}\n",
    "\n",
    "models = {}\n",
    "\n",
    "for i, (train_ids, test_ids, _) in tqdm(enumerate(folds), total=splitter.get_n_splits(interactions_)):\n",
    "    df_train = interactions_.df.iloc[train_ids]\n",
    "    item_feat_train = item_feat[item_feat[Columns.Item].isin(df_train[Columns.Item])]\n",
    "\n",
    "    dataset = Dataset.construct(\n",
    "        df_train,\n",
    "        None,\n",
    "        item_feat_train,\n",
    "        cat_item_features=['genre', 'release_year']\n",
    "    )\n",
    "\n",
    "    df_test = interactions_.df.iloc[test_ids][Columns.UserItem]\n",
    "    test_users = np.unique(df_test[Columns.User])\n",
    "    \n",
    "    for popularity_type in popularity_types:\n",
    "        model = PopularAmongNUniqueUsers(popularity_type=popularity_type,start_from=None).fit(dataset, 650_000)\n",
    "\n",
    "        recos = model.recommend(\n",
    "            users_ids = test_users,\n",
    "            k=10,\n",
    "        )\n",
    "\n",
    "        metric_values = calc_metrics(\n",
    "            metrics,\n",
    "            reco=recos,\n",
    "            interactions=df_test,\n",
    "            prev_interactions=df_train\n",
    "        )\n",
    "        \n",
    "        results['model_name'].append(f\"{popularity_type}\")\n",
    "        results['map'].append(metric_values[\"MAP@10\"])\n",
    "        \n",
    "        models[f\"{popularity_type}\"] = model"
   ]
  },
  {
   "cell_type": "code",
   "execution_count": 103,
   "id": "b785e02e-f43c-4137-8f2c-728fb58d2194",
   "metadata": {},
   "outputs": [
    {
     "data": {
      "text/html": [
       "<div>\n",
       "<style scoped>\n",
       "    .dataframe tbody tr th:only-of-type {\n",
       "        vertical-align: middle;\n",
       "    }\n",
       "\n",
       "    .dataframe tbody tr th {\n",
       "        vertical-align: top;\n",
       "    }\n",
       "\n",
       "    .dataframe thead th {\n",
       "        text-align: right;\n",
       "    }\n",
       "</style>\n",
       "<table border=\"1\" class=\"dataframe\">\n",
       "  <thead>\n",
       "    <tr style=\"text-align: right;\">\n",
       "      <th></th>\n",
       "      <th>model_name</th>\n",
       "      <th>map</th>\n",
       "    </tr>\n",
       "  </thead>\n",
       "  <tbody>\n",
       "    <tr>\n",
       "      <th>0</th>\n",
       "      <td>n_users</td>\n",
       "      <td>0.0</td>\n",
       "    </tr>\n",
       "    <tr>\n",
       "      <th>1</th>\n",
       "      <td>n_interactions</td>\n",
       "      <td>0.0</td>\n",
       "    </tr>\n",
       "    <tr>\n",
       "      <th>2</th>\n",
       "      <td>sum_score</td>\n",
       "      <td>0.0</td>\n",
       "    </tr>\n",
       "    <tr>\n",
       "      <th>3</th>\n",
       "      <td>mean_score</td>\n",
       "      <td>0.0</td>\n",
       "    </tr>\n",
       "    <tr>\n",
       "      <th>4</th>\n",
       "      <td>n_users</td>\n",
       "      <td>0.0</td>\n",
       "    </tr>\n",
       "    <tr>\n",
       "      <th>5</th>\n",
       "      <td>n_interactions</td>\n",
       "      <td>0.0</td>\n",
       "    </tr>\n",
       "    <tr>\n",
       "      <th>6</th>\n",
       "      <td>sum_score</td>\n",
       "      <td>0.0</td>\n",
       "    </tr>\n",
       "    <tr>\n",
       "      <th>7</th>\n",
       "      <td>mean_score</td>\n",
       "      <td>0.0</td>\n",
       "    </tr>\n",
       "    <tr>\n",
       "      <th>8</th>\n",
       "      <td>n_users</td>\n",
       "      <td>0.0</td>\n",
       "    </tr>\n",
       "    <tr>\n",
       "      <th>9</th>\n",
       "      <td>n_interactions</td>\n",
       "      <td>0.0</td>\n",
       "    </tr>\n",
       "    <tr>\n",
       "      <th>10</th>\n",
       "      <td>sum_score</td>\n",
       "      <td>0.0</td>\n",
       "    </tr>\n",
       "    <tr>\n",
       "      <th>11</th>\n",
       "      <td>mean_score</td>\n",
       "      <td>0.0</td>\n",
       "    </tr>\n",
       "  </tbody>\n",
       "</table>\n",
       "</div>"
      ],
      "text/plain": [
       "        model_name  map\n",
       "0          n_users  0.0\n",
       "1   n_interactions  0.0\n",
       "2        sum_score  0.0\n",
       "3       mean_score  0.0\n",
       "4          n_users  0.0\n",
       "5   n_interactions  0.0\n",
       "6        sum_score  0.0\n",
       "7       mean_score  0.0\n",
       "8          n_users  0.0\n",
       "9   n_interactions  0.0\n",
       "10       sum_score  0.0\n",
       "11      mean_score  0.0"
      ]
     },
     "execution_count": 103,
     "metadata": {},
     "output_type": "execute_result"
    }
   ],
   "source": [
    "results_df = pd.DataFrame(data=results)\n",
    "results_df"
   ]
  },
  {
   "cell_type": "markdown",
   "id": "9465dab7-d0e2-4830-9f10-0a06cf80457a",
   "metadata": {},
   "source": [
    "P.S не знаю почему модель не дает прирост в метрике :("
   ]
  },
  {
   "cell_type": "markdown",
   "id": "37190581-4d68-4ff8-a8a5-04f413fb86bf",
   "metadata": {},
   "source": [
    "# Hyperparameter tuning and fitting Most Polular in category models on item features"
   ]
  },
  {
   "cell_type": "code",
   "execution_count": 152,
   "id": "66a84582-3cee-4c7a-9a13-fbf61e23e825",
   "metadata": {},
   "outputs": [],
   "source": [
    "model_parameters = {\n",
    "    \"period\" : [None] + [i for i in range(1, 10)],\n",
    "    \"category_feature\" : ['genre', 'release_year', 'director'],\n",
    "    \"n_categories\" : [3,4,5]\n",
    "}"
   ]
  },
  {
   "cell_type": "code",
   "execution_count": 153,
   "id": "ec867709-62fa-4d10-8500-d0fa7068429c",
   "metadata": {},
   "outputs": [],
   "source": [
    "parameter_grid = list(product(*list(model_parameters.values())))"
   ]
  },
  {
   "cell_type": "code",
   "execution_count": 154,
   "id": "954c56aa-9d6f-4949-be49-763499454bc8",
   "metadata": {},
   "outputs": [
    {
     "data": {
      "application/vnd.jupyter.widget-view+json": {
       "model_id": "7981e5e47d8e47618756ee4d74c853c0",
       "version_major": 2,
       "version_minor": 0
      },
      "text/plain": [
       "  0%|          | 0/3 [00:00<?, ?it/s]"
      ]
     },
     "metadata": {},
     "output_type": "display_data"
    },
    {
     "data": {
      "application/vnd.jupyter.widget-view+json": {
       "model_id": "9743e0a0722d404ca74da48caa2fadaf",
       "version_major": 2,
       "version_minor": 0
      },
      "text/plain": [
       "  0%|          | 0/90 [00:00<?, ?it/s]"
      ]
     },
     "metadata": {},
     "output_type": "display_data"
    },
    {
     "data": {
      "application/vnd.jupyter.widget-view+json": {
       "model_id": "11d315e27a2c4da083b38e23cca9e714",
       "version_major": 2,
       "version_minor": 0
      },
      "text/plain": [
       "  0%|          | 0/90 [00:00<?, ?it/s]"
      ]
     },
     "metadata": {},
     "output_type": "display_data"
    },
    {
     "data": {
      "application/vnd.jupyter.widget-view+json": {
       "model_id": "b139cec22f6047869b9ab33459324efb",
       "version_major": 2,
       "version_minor": 0
      },
      "text/plain": [
       "  0%|          | 0/90 [00:00<?, ?it/s]"
      ]
     },
     "metadata": {},
     "output_type": "display_data"
    }
   ],
   "source": [
    "folds = splitter.split(interactions_)\n",
    "\n",
    "metrics = {\n",
    "    'MAP@10' : MAP(k=10), \n",
    "}\n",
    "\n",
    "results = {\n",
    "    \"model_name\" : [],\n",
    "    \"map\" : []\n",
    "}\n",
    "\n",
    "models = {}\n",
    "\n",
    "for i, (train_ids, test_ids, _) in tqdm(enumerate(folds), total=splitter.get_n_splits(interactions_)):\n",
    "    df_train = interactions_.df.iloc[train_ids]\n",
    "    item_feat_train = item_feat[item_feat[Columns.Item].isin(df_train[Columns.Item])]\n",
    "\n",
    "    dataset = Dataset.construct(\n",
    "        df_train,\n",
    "        None,\n",
    "        item_features_df=item_feat_train,\n",
    "        cat_item_features=['genre', 'release_year', 'director']\n",
    "    )\n",
    "\n",
    "    df_test = interactions_.df.iloc[test_ids][Columns.UserItem]\n",
    "    test_users = np.unique(df_test[Columns.User])\n",
    "    \n",
    "    for params in tqdm(parameter_grid):\n",
    "        model = PopularInCategoryModel(period=pd.to_timedelta(params[0], unit='D'),\n",
    "                                       category_feature=params[1],\n",
    "                                       n_categories=params[2])\n",
    "        model.fit(dataset)\n",
    "\n",
    "        recos = model.recommend(\n",
    "            users = test_users,\n",
    "            dataset=dataset,\n",
    "            k=10,\n",
    "            filter_viewed=True\n",
    "        )\n",
    "\n",
    "        metric_values = calc_metrics(\n",
    "            metrics,\n",
    "            reco=recos,\n",
    "            interactions=df_test,\n",
    "            prev_interactions=df_train\n",
    "        )\n",
    "        \n",
    "        results['model_name'].append(f\"{params[0]}_{params[1]}_{params[2]}\")\n",
    "        results['map'].append(metric_values[\"MAP@10\"])\n",
    "        \n",
    "        models[f\"{params[0]}_{params[1]}_{params[2]}\"] = model"
   ]
  },
  {
   "cell_type": "code",
   "execution_count": 156,
   "id": "da3e5875-8528-4fb3-afc0-a7ce1f720078",
   "metadata": {},
   "outputs": [],
   "source": [
    "results_df = pd.DataFrame(data=results)"
   ]
  },
  {
   "cell_type": "code",
   "execution_count": 159,
   "id": "cb238122-8b50-47b5-a1bd-1161efc182d0",
   "metadata": {},
   "outputs": [
    {
     "data": {
      "text/html": [
       "<div>\n",
       "<style scoped>\n",
       "    .dataframe tbody tr th:only-of-type {\n",
       "        vertical-align: middle;\n",
       "    }\n",
       "\n",
       "    .dataframe tbody tr th {\n",
       "        vertical-align: top;\n",
       "    }\n",
       "\n",
       "    .dataframe thead th {\n",
       "        text-align: right;\n",
       "    }\n",
       "</style>\n",
       "<table border=\"1\" class=\"dataframe\">\n",
       "  <thead>\n",
       "    <tr style=\"text-align: right;\">\n",
       "      <th></th>\n",
       "      <th>map</th>\n",
       "    </tr>\n",
       "    <tr>\n",
       "      <th>model_name</th>\n",
       "      <th></th>\n",
       "    </tr>\n",
       "  </thead>\n",
       "  <tbody>\n",
       "    <tr>\n",
       "      <th>7_release_year_4</th>\n",
       "      <td>0.075586</td>\n",
       "    </tr>\n",
       "    <tr>\n",
       "      <th>3_genre_5</th>\n",
       "      <td>0.075541</td>\n",
       "    </tr>\n",
       "    <tr>\n",
       "      <th>4_genre_5</th>\n",
       "      <td>0.075461</td>\n",
       "    </tr>\n",
       "    <tr>\n",
       "      <th>5_genre_5</th>\n",
       "      <td>0.075409</td>\n",
       "    </tr>\n",
       "    <tr>\n",
       "      <th>8_release_year_4</th>\n",
       "      <td>0.075399</td>\n",
       "    </tr>\n",
       "    <tr>\n",
       "      <th>...</th>\n",
       "      <td>...</td>\n",
       "    </tr>\n",
       "    <tr>\n",
       "      <th>3_director_3</th>\n",
       "      <td>0.064431</td>\n",
       "    </tr>\n",
       "    <tr>\n",
       "      <th>2_director_3</th>\n",
       "      <td>0.064430</td>\n",
       "    </tr>\n",
       "    <tr>\n",
       "      <th>5_director_3</th>\n",
       "      <td>0.063816</td>\n",
       "    </tr>\n",
       "    <tr>\n",
       "      <th>4_director_3</th>\n",
       "      <td>0.063816</td>\n",
       "    </tr>\n",
       "    <tr>\n",
       "      <th>None_director_3</th>\n",
       "      <td>0.061356</td>\n",
       "    </tr>\n",
       "  </tbody>\n",
       "</table>\n",
       "<p>90 rows × 1 columns</p>\n",
       "</div>"
      ],
      "text/plain": [
       "                       map\n",
       "model_name                \n",
       "7_release_year_4  0.075586\n",
       "3_genre_5         0.075541\n",
       "4_genre_5         0.075461\n",
       "5_genre_5         0.075409\n",
       "8_release_year_4  0.075399\n",
       "...                    ...\n",
       "3_director_3      0.064431\n",
       "2_director_3      0.064430\n",
       "5_director_3      0.063816\n",
       "4_director_3      0.063816\n",
       "None_director_3   0.061356\n",
       "\n",
       "[90 rows x 1 columns]"
      ]
     },
     "execution_count": 159,
     "metadata": {},
     "output_type": "execute_result"
    }
   ],
   "source": [
    "results_df.groupby(\"model_name\").mean().sort_values('map', ascending=False)"
   ]
  },
  {
   "cell_type": "code",
   "execution_count": 165,
   "id": "12ba8ed1-f87c-4215-bfe4-1d3a8b769b1b",
   "metadata": {},
   "outputs": [],
   "source": [
    "dataset = Dataset.construct(\n",
    "        interactions,\n",
    "        None,\n",
    "        item_features_df=item_feat,\n",
    "        cat_item_features=['genre', 'release_year', 'director']\n",
    "    )"
   ]
  },
  {
   "cell_type": "code",
   "execution_count": 172,
   "id": "b97fcccb-56d4-4a1b-b671-b6d23dabb1de",
   "metadata": {},
   "outputs": [],
   "source": [
    "recs = models['7_release_year_4'].recommend(submission_users, dataset, 10, filter_viewed=True)"
   ]
  },
  {
   "cell_type": "code",
   "execution_count": null,
   "id": "97aec160-0256-4785-816c-324b3b51100a",
   "metadata": {},
   "outputs": [
    {
     "data": {
      "application/vnd.jupyter.widget-view+json": {
       "model_id": "f2295c21c7ef4fdb8c41132d127ddb6d",
       "version_major": 2,
       "version_minor": 0
      },
      "text/plain": [
       "  0%|          | 0/193113 [00:00<?, ?it/s]"
      ]
     },
     "metadata": {},
     "output_type": "display_data"
    }
   ],
   "source": [
    "preds = []\n",
    "\n",
    "for i, user_id in tqdm(enumerate(sample_submission['user_id']), total=len(sample_submission)):\n",
    "    items = list(recs[recs.user_id == user_id]['item_id'])\n",
    "    \n",
    "    if items: \n",
    "        preds.append(items)\n",
    "    else:\n",
    "        preds.append(default)"
   ]
  },
  {
   "cell_type": "code",
   "execution_count": null,
   "id": "1606d1dc-6cc3-4915-b455-ce25dac418ef",
   "metadata": {},
   "outputs": [],
   "source": [
    "sample_submission['item_id'] = preds"
   ]
  },
  {
   "cell_type": "code",
   "execution_count": 168,
   "id": "fb53a6cf-2e77-4cec-896a-4aa726514f42",
   "metadata": {},
   "outputs": [
    {
     "data": {
      "text/html": [
       "<div>\n",
       "<style scoped>\n",
       "    .dataframe tbody tr th:only-of-type {\n",
       "        vertical-align: middle;\n",
       "    }\n",
       "\n",
       "    .dataframe tbody tr th {\n",
       "        vertical-align: top;\n",
       "    }\n",
       "\n",
       "    .dataframe thead th {\n",
       "        text-align: right;\n",
       "    }\n",
       "</style>\n",
       "<table border=\"1\" class=\"dataframe\">\n",
       "  <thead>\n",
       "    <tr style=\"text-align: right;\">\n",
       "      <th></th>\n",
       "      <th>user_id</th>\n",
       "      <th>item_id</th>\n",
       "      <th>score</th>\n",
       "      <th>rank</th>\n",
       "    </tr>\n",
       "  </thead>\n",
       "  <tbody>\n",
       "    <tr>\n",
       "      <th>0</th>\n",
       "      <td>699317</td>\n",
       "      <td>15297</td>\n",
       "      <td>18004.0</td>\n",
       "      <td>1</td>\n",
       "    </tr>\n",
       "    <tr>\n",
       "      <th>1</th>\n",
       "      <td>699317</td>\n",
       "      <td>598</td>\n",
       "      <td>3802.0</td>\n",
       "      <td>2</td>\n",
       "    </tr>\n",
       "    <tr>\n",
       "      <th>2</th>\n",
       "      <td>699317</td>\n",
       "      <td>8636</td>\n",
       "      <td>1546.0</td>\n",
       "      <td>3</td>\n",
       "    </tr>\n",
       "    <tr>\n",
       "      <th>3</th>\n",
       "      <td>699317</td>\n",
       "      <td>13865</td>\n",
       "      <td>7168.0</td>\n",
       "      <td>4</td>\n",
       "    </tr>\n",
       "    <tr>\n",
       "      <th>4</th>\n",
       "      <td>699317</td>\n",
       "      <td>10152</td>\n",
       "      <td>15099.0</td>\n",
       "      <td>5</td>\n",
       "    </tr>\n",
       "    <tr>\n",
       "      <th>...</th>\n",
       "      <td>...</td>\n",
       "      <td>...</td>\n",
       "      <td>...</td>\n",
       "      <td>...</td>\n",
       "    </tr>\n",
       "    <tr>\n",
       "      <th>987305</th>\n",
       "      <td>541430</td>\n",
       "      <td>5434</td>\n",
       "      <td>3538.0</td>\n",
       "      <td>6</td>\n",
       "    </tr>\n",
       "    <tr>\n",
       "      <th>987306</th>\n",
       "      <td>541430</td>\n",
       "      <td>15815</td>\n",
       "      <td>1200.0</td>\n",
       "      <td>7</td>\n",
       "    </tr>\n",
       "    <tr>\n",
       "      <th>987307</th>\n",
       "      <td>541430</td>\n",
       "      <td>3190</td>\n",
       "      <td>14326.0</td>\n",
       "      <td>8</td>\n",
       "    </tr>\n",
       "    <tr>\n",
       "      <th>987308</th>\n",
       "      <td>541430</td>\n",
       "      <td>3043</td>\n",
       "      <td>6905.0</td>\n",
       "      <td>9</td>\n",
       "    </tr>\n",
       "    <tr>\n",
       "      <th>987309</th>\n",
       "      <td>541430</td>\n",
       "      <td>3017</td>\n",
       "      <td>6086.0</td>\n",
       "      <td>10</td>\n",
       "    </tr>\n",
       "  </tbody>\n",
       "</table>\n",
       "<p>987310 rows × 4 columns</p>\n",
       "</div>"
      ],
      "text/plain": [
       "        user_id  item_id    score  rank\n",
       "0        699317    15297  18004.0     1\n",
       "1        699317      598   3802.0     2\n",
       "2        699317     8636   1546.0     3\n",
       "3        699317    13865   7168.0     4\n",
       "4        699317    10152  15099.0     5\n",
       "...         ...      ...      ...   ...\n",
       "987305   541430     5434   3538.0     6\n",
       "987306   541430    15815   1200.0     7\n",
       "987307   541430     3190  14326.0     8\n",
       "987308   541430     3043   6905.0     9\n",
       "987309   541430     3017   6086.0    10\n",
       "\n",
       "[987310 rows x 4 columns]"
      ]
     },
     "execution_count": 168,
     "metadata": {},
     "output_type": "execute_result"
    }
   ],
   "source": [
    "sample_submission.to_csv(\"submissions/popular_in_category_items.csv\", index=False)"
   ]
  },
  {
   "cell_type": "code",
   "execution_count": 169,
   "id": "40d10b2c-2e87-48f6-9e20-546230f3b6b0",
   "metadata": {},
   "outputs": [
    {
     "data": {
      "text/html": [
       "<div>\n",
       "<style scoped>\n",
       "    .dataframe tbody tr th:only-of-type {\n",
       "        vertical-align: middle;\n",
       "    }\n",
       "\n",
       "    .dataframe tbody tr th {\n",
       "        vertical-align: top;\n",
       "    }\n",
       "\n",
       "    .dataframe thead th {\n",
       "        text-align: right;\n",
       "    }\n",
       "</style>\n",
       "<table border=\"1\" class=\"dataframe\">\n",
       "  <thead>\n",
       "    <tr style=\"text-align: right;\">\n",
       "      <th></th>\n",
       "      <th>user_id</th>\n",
       "      <th>item_id</th>\n",
       "    </tr>\n",
       "  </thead>\n",
       "  <tbody>\n",
       "    <tr>\n",
       "      <th>0</th>\n",
       "      <td>3</td>\n",
       "      <td>[9728, 15297, 10440, 14488, 13865, 12192, 341,...</td>\n",
       "    </tr>\n",
       "    <tr>\n",
       "      <th>1</th>\n",
       "      <td>11</td>\n",
       "      <td>[9728, 15297, 10440, 14488, 13865, 12192, 341,...</td>\n",
       "    </tr>\n",
       "    <tr>\n",
       "      <th>2</th>\n",
       "      <td>29</td>\n",
       "      <td>[9728, 15297, 10440, 14488, 13865, 12192, 341,...</td>\n",
       "    </tr>\n",
       "    <tr>\n",
       "      <th>3</th>\n",
       "      <td>30</td>\n",
       "      <td>[9728, 15297, 10440, 14488, 13865, 12192, 341,...</td>\n",
       "    </tr>\n",
       "    <tr>\n",
       "      <th>4</th>\n",
       "      <td>33</td>\n",
       "      <td>[9728, 15297, 10440, 14488, 13865, 12192, 341,...</td>\n",
       "    </tr>\n",
       "    <tr>\n",
       "      <th>...</th>\n",
       "      <td>...</td>\n",
       "      <td>...</td>\n",
       "    </tr>\n",
       "    <tr>\n",
       "      <th>193108</th>\n",
       "      <td>1097527</td>\n",
       "      <td>[9728, 15297, 10440, 14488, 13865, 12192, 341,...</td>\n",
       "    </tr>\n",
       "    <tr>\n",
       "      <th>193109</th>\n",
       "      <td>1097537</td>\n",
       "      <td>[9728, 15297, 10440, 14488, 13865, 12192, 341,...</td>\n",
       "    </tr>\n",
       "    <tr>\n",
       "      <th>193110</th>\n",
       "      <td>1097538</td>\n",
       "      <td>[9728, 15297, 10440, 14488, 13865, 12192, 341,...</td>\n",
       "    </tr>\n",
       "    <tr>\n",
       "      <th>193111</th>\n",
       "      <td>1097544</td>\n",
       "      <td>[9728, 15297, 10440, 14488, 13865, 12192, 341,...</td>\n",
       "    </tr>\n",
       "    <tr>\n",
       "      <th>193112</th>\n",
       "      <td>1097558</td>\n",
       "      <td>[9728, 15297, 10440, 14488, 13865, 12192, 341,...</td>\n",
       "    </tr>\n",
       "  </tbody>\n",
       "</table>\n",
       "<p>193113 rows × 2 columns</p>\n",
       "</div>"
      ],
      "text/plain": [
       "        user_id                                            item_id\n",
       "0             3  [9728, 15297, 10440, 14488, 13865, 12192, 341,...\n",
       "1            11  [9728, 15297, 10440, 14488, 13865, 12192, 341,...\n",
       "2            29  [9728, 15297, 10440, 14488, 13865, 12192, 341,...\n",
       "3            30  [9728, 15297, 10440, 14488, 13865, 12192, 341,...\n",
       "4            33  [9728, 15297, 10440, 14488, 13865, 12192, 341,...\n",
       "...         ...                                                ...\n",
       "193108  1097527  [9728, 15297, 10440, 14488, 13865, 12192, 341,...\n",
       "193109  1097537  [9728, 15297, 10440, 14488, 13865, 12192, 341,...\n",
       "193110  1097538  [9728, 15297, 10440, 14488, 13865, 12192, 341,...\n",
       "193111  1097544  [9728, 15297, 10440, 14488, 13865, 12192, 341,...\n",
       "193112  1097558  [9728, 15297, 10440, 14488, 13865, 12192, 341,...\n",
       "\n",
       "[193113 rows x 2 columns]"
      ]
     },
     "execution_count": 169,
     "metadata": {},
     "output_type": "execute_result"
    }
   ],
   "source": [
    "sample_submission"
   ]
  },
  {
   "cell_type": "code",
   "execution_count": null,
   "id": "43e4b0bf-dcb3-42a5-9339-35243073daa8",
   "metadata": {},
   "outputs": [],
   "source": []
  }
 ],
 "metadata": {
  "kernelspec": {
   "display_name": "recsys",
   "language": "python",
   "name": "recsys"
  },
  "language_info": {
   "codemirror_mode": {
    "name": "ipython",
    "version": 3
   },
   "file_extension": ".py",
   "mimetype": "text/x-python",
   "name": "python",
   "nbconvert_exporter": "python",
   "pygments_lexer": "ipython3",
   "version": "3.8.15"
  }
 },
 "nbformat": 4,
 "nbformat_minor": 5
}
