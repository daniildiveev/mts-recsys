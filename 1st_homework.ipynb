{
 "cells": [
  {
   "cell_type": "markdown",
   "id": "3a73c44a-8f54-439d-a900-e6e2c70ad604",
   "metadata": {},
   "source": [
    "# Imports"
   ]
  },
  {
   "cell_type": "code",
   "execution_count": 40,
   "id": "27e89956-f63f-4d8b-90be-dd8613999ec3",
   "metadata": {},
   "outputs": [],
   "source": [
    "from typing import List\n",
    "import warnings\n",
    "warnings.simplefilter('ignore')\n",
    "from datetime import timedelta\n",
    "from itertools import product\n",
    "from tqdm.notebook import tqdm\n",
    "import pandas as pd\n",
    "import numpy as np\n",
    "from statistics import mode\n",
    "from rectools import Columns\n",
    "from rectools.models import PopularModel, PopularInCategoryModel\n",
    "from rectools.metrics import calc_metrics, MAP\n",
    "from rectools.dataset import Dataset, Interactions\n",
    "from rectools.model_selection import TimeRangeSplitter\n",
    "from models.popular_among_n_unique import PopularAmongNUniqueUsers"
   ]
  },
  {
   "cell_type": "markdown",
   "id": "0bfb3eae-64b5-44e2-969d-3bdbb963d26a",
   "metadata": {},
   "source": [
    "# Loading data"
   ]
  },
  {
   "cell_type": "code",
   "execution_count": 6,
   "id": "c908b15b-ab39-45a2-ae6f-0497b94b36cd",
   "metadata": {},
   "outputs": [],
   "source": [
    "interactions = pd.read_csv(\"data/interactions.csv\")\n",
    "items = pd.read_csv(\"data/items.csv\")\n",
    "users = pd.read_csv(\"data/users.csv\") "
   ]
  },
  {
   "cell_type": "code",
   "execution_count": 7,
   "id": "66ceaf06-7e7e-4984-b066-056aa07b13a3",
   "metadata": {},
   "outputs": [],
   "source": [
    "sample_submission = pd.read_csv(\"data/sample_submission.csv\")"
   ]
  },
  {
   "cell_type": "code",
   "execution_count": 8,
   "id": "78feb58a-7bc8-442f-9df3-dfce893e125e",
   "metadata": {},
   "outputs": [
    {
     "data": {
      "text/html": [
       "<div>\n",
       "<style scoped>\n",
       "    .dataframe tbody tr th:only-of-type {\n",
       "        vertical-align: middle;\n",
       "    }\n",
       "\n",
       "    .dataframe tbody tr th {\n",
       "        vertical-align: top;\n",
       "    }\n",
       "\n",
       "    .dataframe thead th {\n",
       "        text-align: right;\n",
       "    }\n",
       "</style>\n",
       "<table border=\"1\" class=\"dataframe\">\n",
       "  <thead>\n",
       "    <tr style=\"text-align: right;\">\n",
       "      <th></th>\n",
       "      <th>user_id</th>\n",
       "      <th>item_id</th>\n",
       "    </tr>\n",
       "  </thead>\n",
       "  <tbody>\n",
       "    <tr>\n",
       "      <th>0</th>\n",
       "      <td>3</td>\n",
       "      <td>[9728, 15297, 10440, 14488, 13865, 12192, 341,...</td>\n",
       "    </tr>\n",
       "    <tr>\n",
       "      <th>1</th>\n",
       "      <td>11</td>\n",
       "      <td>[9728, 15297, 10440, 14488, 13865, 12192, 341,...</td>\n",
       "    </tr>\n",
       "    <tr>\n",
       "      <th>2</th>\n",
       "      <td>29</td>\n",
       "      <td>[9728, 15297, 10440, 14488, 13865, 12192, 341,...</td>\n",
       "    </tr>\n",
       "    <tr>\n",
       "      <th>3</th>\n",
       "      <td>30</td>\n",
       "      <td>[9728, 15297, 10440, 14488, 13865, 12192, 341,...</td>\n",
       "    </tr>\n",
       "    <tr>\n",
       "      <th>4</th>\n",
       "      <td>33</td>\n",
       "      <td>[9728, 15297, 10440, 14488, 13865, 12192, 341,...</td>\n",
       "    </tr>\n",
       "    <tr>\n",
       "      <th>...</th>\n",
       "      <td>...</td>\n",
       "      <td>...</td>\n",
       "    </tr>\n",
       "    <tr>\n",
       "      <th>193108</th>\n",
       "      <td>1097527</td>\n",
       "      <td>[9728, 15297, 10440, 14488, 13865, 12192, 341,...</td>\n",
       "    </tr>\n",
       "    <tr>\n",
       "      <th>193109</th>\n",
       "      <td>1097537</td>\n",
       "      <td>[9728, 15297, 10440, 14488, 13865, 12192, 341,...</td>\n",
       "    </tr>\n",
       "    <tr>\n",
       "      <th>193110</th>\n",
       "      <td>1097538</td>\n",
       "      <td>[9728, 15297, 10440, 14488, 13865, 12192, 341,...</td>\n",
       "    </tr>\n",
       "    <tr>\n",
       "      <th>193111</th>\n",
       "      <td>1097544</td>\n",
       "      <td>[9728, 15297, 10440, 14488, 13865, 12192, 341,...</td>\n",
       "    </tr>\n",
       "    <tr>\n",
       "      <th>193112</th>\n",
       "      <td>1097558</td>\n",
       "      <td>[9728, 15297, 10440, 14488, 13865, 12192, 341,...</td>\n",
       "    </tr>\n",
       "  </tbody>\n",
       "</table>\n",
       "<p>193113 rows × 2 columns</p>\n",
       "</div>"
      ],
      "text/plain": [
       "        user_id                                            item_id\n",
       "0             3  [9728, 15297, 10440, 14488, 13865, 12192, 341,...\n",
       "1            11  [9728, 15297, 10440, 14488, 13865, 12192, 341,...\n",
       "2            29  [9728, 15297, 10440, 14488, 13865, 12192, 341,...\n",
       "3            30  [9728, 15297, 10440, 14488, 13865, 12192, 341,...\n",
       "4            33  [9728, 15297, 10440, 14488, 13865, 12192, 341,...\n",
       "...         ...                                                ...\n",
       "193108  1097527  [9728, 15297, 10440, 14488, 13865, 12192, 341,...\n",
       "193109  1097537  [9728, 15297, 10440, 14488, 13865, 12192, 341,...\n",
       "193110  1097538  [9728, 15297, 10440, 14488, 13865, 12192, 341,...\n",
       "193111  1097544  [9728, 15297, 10440, 14488, 13865, 12192, 341,...\n",
       "193112  1097558  [9728, 15297, 10440, 14488, 13865, 12192, 341,...\n",
       "\n",
       "[193113 rows x 2 columns]"
      ]
     },
     "execution_count": 8,
     "metadata": {},
     "output_type": "execute_result"
    }
   ],
   "source": [
    "sample_submission"
   ]
  },
  {
   "cell_type": "markdown",
   "id": "9ab8ad03-8492-47ea-8661-30ed13e820ed",
   "metadata": {},
   "source": [
    "# Data preprocessing"
   ]
  },
  {
   "cell_type": "code",
   "execution_count": 12,
   "id": "a101ab82-796e-4b9f-a142-e94dfa364399",
   "metadata": {},
   "outputs": [],
   "source": [
    "interactions.rename(\n",
    "    columns={\n",
    "        'track_id' : Columns.Item,\n",
    "        'last_watch_dt' : Columns.Datetime,\n",
    "        'total_dur' : Columns.Weight\n",
    "    },\n",
    "    inplace=True\n",
    ")"
   ]
  },
  {
   "cell_type": "code",
   "execution_count": 13,
   "id": "802412d7-9a47-4b34-bf85-9ff1ef42e59b",
   "metadata": {},
   "outputs": [
    {
     "data": {
      "text/html": [
       "<div>\n",
       "<style scoped>\n",
       "    .dataframe tbody tr th:only-of-type {\n",
       "        vertical-align: middle;\n",
       "    }\n",
       "\n",
       "    .dataframe tbody tr th {\n",
       "        vertical-align: top;\n",
       "    }\n",
       "\n",
       "    .dataframe thead th {\n",
       "        text-align: right;\n",
       "    }\n",
       "</style>\n",
       "<table border=\"1\" class=\"dataframe\">\n",
       "  <thead>\n",
       "    <tr style=\"text-align: right;\">\n",
       "      <th></th>\n",
       "      <th>item_id</th>\n",
       "      <th>value</th>\n",
       "      <th>feature</th>\n",
       "    </tr>\n",
       "  </thead>\n",
       "  <tbody>\n",
       "    <tr>\n",
       "      <th>0</th>\n",
       "      <td>10711</td>\n",
       "      <td>1983.0</td>\n",
       "      <td>release_year</td>\n",
       "    </tr>\n",
       "    <tr>\n",
       "      <th>1</th>\n",
       "      <td>2508</td>\n",
       "      <td>2012.0</td>\n",
       "      <td>release_year</td>\n",
       "    </tr>\n",
       "    <tr>\n",
       "      <th>2</th>\n",
       "      <td>10716</td>\n",
       "      <td>2009.0</td>\n",
       "      <td>release_year</td>\n",
       "    </tr>\n",
       "    <tr>\n",
       "      <th>3</th>\n",
       "      <td>7868</td>\n",
       "      <td>2014.0</td>\n",
       "      <td>release_year</td>\n",
       "    </tr>\n",
       "    <tr>\n",
       "      <th>4</th>\n",
       "      <td>16268</td>\n",
       "      <td>1897.0</td>\n",
       "      <td>release_year</td>\n",
       "    </tr>\n",
       "  </tbody>\n",
       "</table>\n",
       "</div>"
      ],
      "text/plain": [
       "   item_id   value       feature\n",
       "0    10711  1983.0  release_year\n",
       "1     2508  2012.0  release_year\n",
       "2    10716  2009.0  release_year\n",
       "3     7868  2014.0  release_year\n",
       "4    16268  1897.0  release_year"
      ]
     },
     "execution_count": 13,
     "metadata": {},
     "output_type": "execute_result"
    }
   ],
   "source": [
    "_, bins = pd.qcut(items[\"release_year\"], 10, retbins=True)\n",
    "labels = bins[:-1]\n",
    "\n",
    "year_feature = pd.DataFrame(\n",
    "    {\n",
    "        Columns.Item: items[Columns.Item],\n",
    "        \"value\": pd.cut(items[\"release_year\"], bins=bins, labels=bins[:-1]),\n",
    "        \"feature\": \"release_year\",\n",
    "    }\n",
    ")\n",
    "year_feature.head()"
   ]
  },
  {
   "cell_type": "code",
   "execution_count": 14,
   "id": "2aba9956-e7d5-4faf-a325-2b265790b0a9",
   "metadata": {},
   "outputs": [],
   "source": [
    "items['genre'] = items['genres'].str.split(\",\")"
   ]
  },
  {
   "cell_type": "code",
   "execution_count": 15,
   "id": "9bef7a8d-39a3-470c-8ff8-d3545a5dace5",
   "metadata": {},
   "outputs": [
    {
     "data": {
      "text/html": [
       "<div>\n",
       "<style scoped>\n",
       "    .dataframe tbody tr th:only-of-type {\n",
       "        vertical-align: middle;\n",
       "    }\n",
       "\n",
       "    .dataframe tbody tr th {\n",
       "        vertical-align: top;\n",
       "    }\n",
       "\n",
       "    .dataframe thead th {\n",
       "        text-align: right;\n",
       "    }\n",
       "</style>\n",
       "<table border=\"1\" class=\"dataframe\">\n",
       "  <thead>\n",
       "    <tr style=\"text-align: right;\">\n",
       "      <th></th>\n",
       "      <th>item_id</th>\n",
       "      <th>value</th>\n",
       "      <th>feature</th>\n",
       "    </tr>\n",
       "  </thead>\n",
       "  <tbody>\n",
       "    <tr>\n",
       "      <th>0</th>\n",
       "      <td>10711</td>\n",
       "      <td>драмы</td>\n",
       "      <td>genre</td>\n",
       "    </tr>\n",
       "    <tr>\n",
       "      <th>0</th>\n",
       "      <td>10711</td>\n",
       "      <td>зарубежные</td>\n",
       "      <td>genre</td>\n",
       "    </tr>\n",
       "    <tr>\n",
       "      <th>0</th>\n",
       "      <td>10711</td>\n",
       "      <td>детективы</td>\n",
       "      <td>genre</td>\n",
       "    </tr>\n",
       "    <tr>\n",
       "      <th>0</th>\n",
       "      <td>10711</td>\n",
       "      <td>мелодрамы</td>\n",
       "      <td>genre</td>\n",
       "    </tr>\n",
       "    <tr>\n",
       "      <th>1</th>\n",
       "      <td>2508</td>\n",
       "      <td>зарубежные</td>\n",
       "      <td>genre</td>\n",
       "    </tr>\n",
       "  </tbody>\n",
       "</table>\n",
       "</div>"
      ],
      "text/plain": [
       "   item_id        value feature\n",
       "0    10711        драмы   genre\n",
       "0    10711   зарубежные   genre\n",
       "0    10711    детективы   genre\n",
       "0    10711    мелодрамы   genre\n",
       "1     2508   зарубежные   genre"
      ]
     },
     "execution_count": 15,
     "metadata": {},
     "output_type": "execute_result"
    }
   ],
   "source": [
    "genre_feature = items[[Columns.Item, \"genre\"]].explode(\"genre\")\n",
    "genre_feature.columns = [Columns.Item, \"value\"]\n",
    "genre_feature[\"feature\"] = \"genre\"\n",
    "genre_feature.head()"
   ]
  },
  {
   "cell_type": "code",
   "execution_count": 16,
   "id": "883d9a9e-f97d-484b-99fb-b6d209c5d509",
   "metadata": {},
   "outputs": [],
   "source": [
    "item_feat = pd.concat([genre_feature, year_feature])\n",
    "item_feat = item_feat[item_feat[Columns.Item].isin(interactions[Columns.Item])]"
   ]
  },
  {
   "cell_type": "code",
   "execution_count": 17,
   "id": "d78f60e8-9097-4be7-9021-af1f739377d5",
   "metadata": {},
   "outputs": [
    {
     "data": {
      "text/html": [
       "<div>\n",
       "<style scoped>\n",
       "    .dataframe tbody tr th:only-of-type {\n",
       "        vertical-align: middle;\n",
       "    }\n",
       "\n",
       "    .dataframe tbody tr th {\n",
       "        vertical-align: top;\n",
       "    }\n",
       "\n",
       "    .dataframe thead th {\n",
       "        text-align: right;\n",
       "    }\n",
       "</style>\n",
       "<table border=\"1\" class=\"dataframe\">\n",
       "  <thead>\n",
       "    <tr style=\"text-align: right;\">\n",
       "      <th></th>\n",
       "      <th>item_id</th>\n",
       "      <th>value</th>\n",
       "      <th>feature</th>\n",
       "    </tr>\n",
       "  </thead>\n",
       "  <tbody>\n",
       "    <tr>\n",
       "      <th>15960</th>\n",
       "      <td>10632</td>\n",
       "      <td>Амир Камдин</td>\n",
       "      <td>director</td>\n",
       "    </tr>\n",
       "    <tr>\n",
       "      <th>15960</th>\n",
       "      <td>10632</td>\n",
       "      <td>Эрик Эгер</td>\n",
       "      <td>director</td>\n",
       "    </tr>\n",
       "    <tr>\n",
       "      <th>15961</th>\n",
       "      <td>4538</td>\n",
       "      <td>Марк О’Коннор</td>\n",
       "      <td>director</td>\n",
       "    </tr>\n",
       "    <tr>\n",
       "      <th>15961</th>\n",
       "      <td>4538</td>\n",
       "      <td>Конор МакМахон</td>\n",
       "      <td>director</td>\n",
       "    </tr>\n",
       "    <tr>\n",
       "      <th>15962</th>\n",
       "      <td>3206</td>\n",
       "      <td>Михаил Миронов</td>\n",
       "      <td>director</td>\n",
       "    </tr>\n",
       "  </tbody>\n",
       "</table>\n",
       "</div>"
      ],
      "text/plain": [
       "       item_id            value   feature\n",
       "15960    10632      Амир Камдин  director\n",
       "15960    10632        Эрик Эгер  director\n",
       "15961     4538    Марк О’Коннор  director\n",
       "15961     4538   Конор МакМахон  director\n",
       "15962     3206   Михаил Миронов  director"
      ]
     },
     "execution_count": 17,
     "metadata": {},
     "output_type": "execute_result"
    }
   ],
   "source": [
    "items['director'] = items['directors'].str.split(\",\")\n",
    "director_feature = items[[Columns.Item, \"director\"]].explode(\"director\")\n",
    "director_feature.columns = [Columns.Item, \"value\"]\n",
    "director_feature[\"feature\"] = \"director\"\n",
    "director_feature.tail()"
   ]
  },
  {
   "cell_type": "code",
   "execution_count": 18,
   "id": "2c14f940-647f-4442-afa2-1a35c707bc02",
   "metadata": {},
   "outputs": [],
   "source": [
    "item_feat = pd.concat([genre_feature, year_feature, director_feature])\n",
    "item_feat = item_feat[item_feat[Columns.Item].isin(interactions[Columns.Item])]"
   ]
  },
  {
   "cell_type": "code",
   "execution_count": 19,
   "id": "fe27b72f-fbcb-47e0-8de6-8bde9b1b3d12",
   "metadata": {},
   "outputs": [
    {
     "data": {
      "text/html": [
       "<div>\n",
       "<style scoped>\n",
       "    .dataframe tbody tr th:only-of-type {\n",
       "        vertical-align: middle;\n",
       "    }\n",
       "\n",
       "    .dataframe tbody tr th {\n",
       "        vertical-align: top;\n",
       "    }\n",
       "\n",
       "    .dataframe thead th {\n",
       "        text-align: right;\n",
       "    }\n",
       "</style>\n",
       "<table border=\"1\" class=\"dataframe\">\n",
       "  <thead>\n",
       "    <tr style=\"text-align: right;\">\n",
       "      <th></th>\n",
       "      <th>item_id</th>\n",
       "      <th>value</th>\n",
       "      <th>feature</th>\n",
       "    </tr>\n",
       "  </thead>\n",
       "  <tbody>\n",
       "    <tr>\n",
       "      <th>0</th>\n",
       "      <td>10711</td>\n",
       "      <td>драмы</td>\n",
       "      <td>genre</td>\n",
       "    </tr>\n",
       "    <tr>\n",
       "      <th>0</th>\n",
       "      <td>10711</td>\n",
       "      <td>зарубежные</td>\n",
       "      <td>genre</td>\n",
       "    </tr>\n",
       "    <tr>\n",
       "      <th>0</th>\n",
       "      <td>10711</td>\n",
       "      <td>детективы</td>\n",
       "      <td>genre</td>\n",
       "    </tr>\n",
       "    <tr>\n",
       "      <th>0</th>\n",
       "      <td>10711</td>\n",
       "      <td>мелодрамы</td>\n",
       "      <td>genre</td>\n",
       "    </tr>\n",
       "    <tr>\n",
       "      <th>1</th>\n",
       "      <td>2508</td>\n",
       "      <td>зарубежные</td>\n",
       "      <td>genre</td>\n",
       "    </tr>\n",
       "    <tr>\n",
       "      <th>...</th>\n",
       "      <td>...</td>\n",
       "      <td>...</td>\n",
       "      <td>...</td>\n",
       "    </tr>\n",
       "    <tr>\n",
       "      <th>15960</th>\n",
       "      <td>10632</td>\n",
       "      <td>Амир Камдин</td>\n",
       "      <td>director</td>\n",
       "    </tr>\n",
       "    <tr>\n",
       "      <th>15960</th>\n",
       "      <td>10632</td>\n",
       "      <td>Эрик Эгер</td>\n",
       "      <td>director</td>\n",
       "    </tr>\n",
       "    <tr>\n",
       "      <th>15961</th>\n",
       "      <td>4538</td>\n",
       "      <td>Марк О’Коннор</td>\n",
       "      <td>director</td>\n",
       "    </tr>\n",
       "    <tr>\n",
       "      <th>15961</th>\n",
       "      <td>4538</td>\n",
       "      <td>Конор МакМахон</td>\n",
       "      <td>director</td>\n",
       "    </tr>\n",
       "    <tr>\n",
       "      <th>15962</th>\n",
       "      <td>3206</td>\n",
       "      <td>Михаил Миронов</td>\n",
       "      <td>director</td>\n",
       "    </tr>\n",
       "  </tbody>\n",
       "</table>\n",
       "<p>74704 rows × 3 columns</p>\n",
       "</div>"
      ],
      "text/plain": [
       "       item_id            value   feature\n",
       "0        10711            драмы     genre\n",
       "0        10711       зарубежные     genre\n",
       "0        10711        детективы     genre\n",
       "0        10711        мелодрамы     genre\n",
       "1         2508       зарубежные     genre\n",
       "...        ...              ...       ...\n",
       "15960    10632      Амир Камдин  director\n",
       "15960    10632        Эрик Эгер  director\n",
       "15961     4538    Марк О’Коннор  director\n",
       "15961     4538   Конор МакМахон  director\n",
       "15962     3206   Михаил Миронов  director\n",
       "\n",
       "[74704 rows x 3 columns]"
      ]
     },
     "execution_count": 19,
     "metadata": {},
     "output_type": "execute_result"
    }
   ],
   "source": [
    "item_feat"
   ]
  },
  {
   "cell_type": "code",
   "execution_count": 20,
   "id": "51864f2c-8729-4d46-b3cf-2727d71ccc09",
   "metadata": {},
   "outputs": [
    {
     "name": "stdout",
     "output_type": "stream",
     "text": [
      "\n",
      "    start_date: 2021-07-26 00:00:00\n",
      "    last_date: 2021-08-15 00:00:00\n",
      "    periods: 4\n",
      "    freq: 7D\n",
      "\n"
     ]
    }
   ],
   "source": [
    "n_folds = 3\n",
    "unit = \"D\"\n",
    "n_units = 7\n",
    "# last_date = interactions[Columns.Datetime].max().normalize()\n",
    "last_date = pd.to_datetime('15-08-2021', format='%d-%m-%Y')\n",
    "\n",
    "\n",
    "start_date = last_date - pd.Timedelta(n_folds * n_units - 1, unit=unit)\n",
    "periods = n_folds + 1\n",
    "freq = f\"{n_units}{unit}\"\n",
    "print(f\"\"\"\n",
    "    start_date: {start_date}\n",
    "    last_date: {last_date}\n",
    "    periods: {periods}\n",
    "    freq: {freq}\n",
    "\"\"\")\n",
    "\n",
    "date_range = pd.date_range(start=start_date, periods=periods, freq=freq, tz=last_date.tz)"
   ]
  },
  {
   "cell_type": "code",
   "execution_count": 21,
   "id": "d1ae2fdb-d111-45c6-a70a-43f719b4da04",
   "metadata": {},
   "outputs": [],
   "source": [
    "splitter = TimeRangeSplitter(date_range=date_range)\n",
    "interactions_ = Interactions(interactions)"
   ]
  },
  {
   "cell_type": "code",
   "execution_count": 22,
   "id": "9a321de2-01e9-43ad-aa4f-f60fa814ff5e",
   "metadata": {},
   "outputs": [
    {
     "data": {
      "text/html": [
       "<div>\n",
       "<style scoped>\n",
       "    .dataframe tbody tr th:only-of-type {\n",
       "        vertical-align: middle;\n",
       "    }\n",
       "\n",
       "    .dataframe tbody tr th {\n",
       "        vertical-align: top;\n",
       "    }\n",
       "\n",
       "    .dataframe thead th {\n",
       "        text-align: right;\n",
       "    }\n",
       "</style>\n",
       "<table border=\"1\" class=\"dataframe\">\n",
       "  <thead>\n",
       "    <tr style=\"text-align: right;\">\n",
       "      <th></th>\n",
       "      <th>user_id</th>\n",
       "      <th>item_id</th>\n",
       "      <th>datetime</th>\n",
       "      <th>weight</th>\n",
       "      <th>watched_pct</th>\n",
       "    </tr>\n",
       "  </thead>\n",
       "  <tbody>\n",
       "    <tr>\n",
       "      <th>0</th>\n",
       "      <td>176549</td>\n",
       "      <td>9506</td>\n",
       "      <td>2021-05-11</td>\n",
       "      <td>4250.0</td>\n",
       "      <td>72.0</td>\n",
       "    </tr>\n",
       "    <tr>\n",
       "      <th>1</th>\n",
       "      <td>699317</td>\n",
       "      <td>1659</td>\n",
       "      <td>2021-05-29</td>\n",
       "      <td>8317.0</td>\n",
       "      <td>100.0</td>\n",
       "    </tr>\n",
       "    <tr>\n",
       "      <th>2</th>\n",
       "      <td>656683</td>\n",
       "      <td>7107</td>\n",
       "      <td>2021-05-09</td>\n",
       "      <td>10.0</td>\n",
       "      <td>0.0</td>\n",
       "    </tr>\n",
       "    <tr>\n",
       "      <th>3</th>\n",
       "      <td>864613</td>\n",
       "      <td>7638</td>\n",
       "      <td>2021-07-05</td>\n",
       "      <td>14483.0</td>\n",
       "      <td>100.0</td>\n",
       "    </tr>\n",
       "    <tr>\n",
       "      <th>4</th>\n",
       "      <td>964868</td>\n",
       "      <td>9506</td>\n",
       "      <td>2021-04-30</td>\n",
       "      <td>6725.0</td>\n",
       "      <td>100.0</td>\n",
       "    </tr>\n",
       "    <tr>\n",
       "      <th>...</th>\n",
       "      <td>...</td>\n",
       "      <td>...</td>\n",
       "      <td>...</td>\n",
       "      <td>...</td>\n",
       "      <td>...</td>\n",
       "    </tr>\n",
       "    <tr>\n",
       "      <th>5476246</th>\n",
       "      <td>648596</td>\n",
       "      <td>12225</td>\n",
       "      <td>2021-08-13</td>\n",
       "      <td>76.0</td>\n",
       "      <td>0.0</td>\n",
       "    </tr>\n",
       "    <tr>\n",
       "      <th>5476247</th>\n",
       "      <td>546862</td>\n",
       "      <td>9673</td>\n",
       "      <td>2021-04-13</td>\n",
       "      <td>2308.0</td>\n",
       "      <td>49.0</td>\n",
       "    </tr>\n",
       "    <tr>\n",
       "      <th>5476248</th>\n",
       "      <td>697262</td>\n",
       "      <td>15297</td>\n",
       "      <td>2021-08-20</td>\n",
       "      <td>18307.0</td>\n",
       "      <td>63.0</td>\n",
       "    </tr>\n",
       "    <tr>\n",
       "      <th>5476249</th>\n",
       "      <td>384202</td>\n",
       "      <td>16197</td>\n",
       "      <td>2021-04-19</td>\n",
       "      <td>6203.0</td>\n",
       "      <td>100.0</td>\n",
       "    </tr>\n",
       "    <tr>\n",
       "      <th>5476250</th>\n",
       "      <td>319709</td>\n",
       "      <td>4436</td>\n",
       "      <td>2021-08-15</td>\n",
       "      <td>3921.0</td>\n",
       "      <td>45.0</td>\n",
       "    </tr>\n",
       "  </tbody>\n",
       "</table>\n",
       "<p>5476251 rows × 5 columns</p>\n",
       "</div>"
      ],
      "text/plain": [
       "         user_id  item_id   datetime   weight  watched_pct\n",
       "0         176549     9506 2021-05-11   4250.0         72.0\n",
       "1         699317     1659 2021-05-29   8317.0        100.0\n",
       "2         656683     7107 2021-05-09     10.0          0.0\n",
       "3         864613     7638 2021-07-05  14483.0        100.0\n",
       "4         964868     9506 2021-04-30   6725.0        100.0\n",
       "...          ...      ...        ...      ...          ...\n",
       "5476246   648596    12225 2021-08-13     76.0          0.0\n",
       "5476247   546862     9673 2021-04-13   2308.0         49.0\n",
       "5476248   697262    15297 2021-08-20  18307.0         63.0\n",
       "5476249   384202    16197 2021-04-19   6203.0        100.0\n",
       "5476250   319709     4436 2021-08-15   3921.0         45.0\n",
       "\n",
       "[5476251 rows x 5 columns]"
      ]
     },
     "execution_count": 22,
     "metadata": {},
     "output_type": "execute_result"
    }
   ],
   "source": [
    "interactions"
   ]
  },
  {
   "cell_type": "code",
   "execution_count": 58,
   "id": "be600946-90be-49c5-ae6e-47a8dccb82e7",
   "metadata": {},
   "outputs": [],
   "source": [
    "whole_dataset = Dataset.construct(\n",
    "    interactions_df=interactions\n",
    ")\n",
    "\n",
    "whole_user_item_matrix = whole_dataset.get_user_item_matrix()"
   ]
  },
  {
   "cell_type": "markdown",
   "id": "db8a061f-0741-41a0-92bd-eb43a5cca4cd",
   "metadata": {
    "tags": []
   },
   "source": [
    "# Hypeparameter tuning and fitting simple Popular model"
   ]
  },
  {
   "cell_type": "code",
   "execution_count": 121,
   "id": "08f40cd9-15e8-4d30-b96d-db28af4bd6eb",
   "metadata": {},
   "outputs": [],
   "source": [
    "model_parameters = {\n",
    "    \"popularity\": [\"n_users\", \"n_interactions\", \"sum_weight\", \"mean_weight\"], \n",
    "    \"period\" : [None] + [i for i in range(1, 22)]\n",
    "}"
   ]
  },
  {
   "cell_type": "code",
   "execution_count": 122,
   "id": "5cec6be5-4e9f-4287-acbb-5a30ff8919da",
   "metadata": {},
   "outputs": [],
   "source": [
    "parameter_grid = tuple(product(*list(model_parameters.values())))"
   ]
  },
  {
   "cell_type": "code",
   "execution_count": 123,
   "id": "1f8b61b4-d567-416c-80ed-ba8d4da7f577",
   "metadata": {
    "tags": []
   },
   "outputs": [],
   "source": [
    "folds = splitter.split(interactions_)\n",
    "\n",
    "metrics = {\n",
    "    'MAP@10' : MAP(k=10), \n",
    "}\n",
    "\n",
    "results = {\n",
    "    \"model_name\" : [],\n",
    "    \"map\" : []\n",
    "}\n",
    "\n",
    "models = {}"
   ]
  },
  {
   "cell_type": "code",
   "execution_count": 124,
   "id": "b81f04b1-6d13-4bce-94bd-4bf12dd4706d",
   "metadata": {
    "tags": []
   },
   "outputs": [
    {
     "data": {
      "application/vnd.jupyter.widget-view+json": {
       "model_id": "21efe592d226424f94d16e76daf12020",
       "version_major": 2,
       "version_minor": 0
      },
      "text/plain": [
       "  0%|          | 0/3 [00:00<?, ?it/s]"
      ]
     },
     "metadata": {},
     "output_type": "display_data"
    },
    {
     "data": {
      "application/vnd.jupyter.widget-view+json": {
       "model_id": "f44695cedc74454197794ee1568a943d",
       "version_major": 2,
       "version_minor": 0
      },
      "text/plain": [
       "  0%|          | 0/88 [00:00<?, ?it/s]"
      ]
     },
     "metadata": {},
     "output_type": "display_data"
    },
    {
     "data": {
      "application/vnd.jupyter.widget-view+json": {
       "model_id": "a2725c2e685a4a18a093ab62d348297e",
       "version_major": 2,
       "version_minor": 0
      },
      "text/plain": [
       "  0%|          | 0/88 [00:00<?, ?it/s]"
      ]
     },
     "metadata": {},
     "output_type": "display_data"
    },
    {
     "data": {
      "application/vnd.jupyter.widget-view+json": {
       "model_id": "bc93361e7b1b4e8792982acc663dce5d",
       "version_major": 2,
       "version_minor": 0
      },
      "text/plain": [
       "  0%|          | 0/88 [00:00<?, ?it/s]"
      ]
     },
     "metadata": {},
     "output_type": "display_data"
    }
   ],
   "source": [
    "for i, (train_ids, test_ids, _) in tqdm(enumerate(folds), total=splitter.get_n_splits(interactions_)):\n",
    "    df_train = interactions_.df.iloc[train_ids]\n",
    "    item_feat_train = item_feat[item_feat[Columns.Item].isin(df_train[Columns.Item])]\n",
    "\n",
    "    dataset = Dataset.construct(\n",
    "        df_train,\n",
    "        None,\n",
    "        item_feat_train,\n",
    "        cat_item_features=['genre', 'release_year']\n",
    "    )\n",
    "\n",
    "    df_test = interactions_.df.iloc[test_ids][Columns.UserItem]\n",
    "    test_users = np.unique(df_test[Columns.User])\n",
    "    \n",
    "    for params in tqdm(parameter_grid):\n",
    "        model = PopularModel(popularity=params[0], period=pd.to_timedelta(params[1], unit='D'))\n",
    "        model.fit(dataset)\n",
    "\n",
    "        recos = model.recommend(\n",
    "            users = test_users,\n",
    "            dataset=dataset,\n",
    "            k=10,\n",
    "            filter_viewed=True\n",
    "        )t\n",
    "\n",
    "        metric_values = calc_metrics(\n",
    "            metrics,\n",
    "            reco=recos,\n",
    "            interactions=df_test,\n",
    "            prev_interactions=df_train\n",
    "        )\n",
    "        \n",
    "        results['model_name'].append(f\"{params[0]}_{params[1]}\")\n",
    "        results['map'].append(metric_values[\"MAP@10\"])\n",
    "        \n",
    "        models[f\"{params[0]}_{params[1]}\"] = model"
   ]
  },
  {
   "cell_type": "code",
   "execution_count": 128,
   "id": "6355c7f5-937f-4bc5-b58a-d82ad8a52127",
   "metadata": {},
   "outputs": [],
   "source": [
    "results_df = pd.DataFrame(data=results)"
   ]
  },
  {
   "cell_type": "code",
   "execution_count": 129,
   "id": "00613799-9927-4d58-8d05-7d836b7234c7",
   "metadata": {},
   "outputs": [
    {
     "data": {
      "text/html": [
       "<div>\n",
       "<style scoped>\n",
       "    .dataframe tbody tr th:only-of-type {\n",
       "        vertical-align: middle;\n",
       "    }\n",
       "\n",
       "    .dataframe tbody tr th {\n",
       "        vertical-align: top;\n",
       "    }\n",
       "\n",
       "    .dataframe thead th {\n",
       "        text-align: right;\n",
       "    }\n",
       "</style>\n",
       "<table border=\"1\" class=\"dataframe\">\n",
       "  <thead>\n",
       "    <tr style=\"text-align: right;\">\n",
       "      <th></th>\n",
       "      <th>map</th>\n",
       "    </tr>\n",
       "    <tr>\n",
       "      <th>model_name</th>\n",
       "      <th></th>\n",
       "    </tr>\n",
       "  </thead>\n",
       "  <tbody>\n",
       "    <tr>\n",
       "      <th>n_users_5</th>\n",
       "      <td>0.096757</td>\n",
       "    </tr>\n",
       "    <tr>\n",
       "      <th>n_interactions_5</th>\n",
       "      <td>0.096757</td>\n",
       "    </tr>\n",
       "    <tr>\n",
       "      <th>n_interactions_4</th>\n",
       "      <td>0.096695</td>\n",
       "    </tr>\n",
       "    <tr>\n",
       "      <th>n_users_4</th>\n",
       "      <td>0.096695</td>\n",
       "    </tr>\n",
       "    <tr>\n",
       "      <th>n_interactions_3</th>\n",
       "      <td>0.096656</td>\n",
       "    </tr>\n",
       "    <tr>\n",
       "      <th>...</th>\n",
       "      <td>...</td>\n",
       "    </tr>\n",
       "    <tr>\n",
       "      <th>mean_weight_5</th>\n",
       "      <td>0.000106</td>\n",
       "    </tr>\n",
       "    <tr>\n",
       "      <th>mean_weight_6</th>\n",
       "      <td>0.000102</td>\n",
       "    </tr>\n",
       "    <tr>\n",
       "      <th>mean_weight_21</th>\n",
       "      <td>0.000098</td>\n",
       "    </tr>\n",
       "    <tr>\n",
       "      <th>mean_weight_2</th>\n",
       "      <td>0.000095</td>\n",
       "    </tr>\n",
       "    <tr>\n",
       "      <th>mean_weight_None</th>\n",
       "      <td>0.000003</td>\n",
       "    </tr>\n",
       "  </tbody>\n",
       "</table>\n",
       "<p>88 rows × 1 columns</p>\n",
       "</div>"
      ],
      "text/plain": [
       "                       map\n",
       "model_name                \n",
       "n_users_5         0.096757\n",
       "n_interactions_5  0.096757\n",
       "n_interactions_4  0.096695\n",
       "n_users_4         0.096695\n",
       "n_interactions_3  0.096656\n",
       "...                    ...\n",
       "mean_weight_5     0.000106\n",
       "mean_weight_6     0.000102\n",
       "mean_weight_21    0.000098\n",
       "mean_weight_2     0.000095\n",
       "mean_weight_None  0.000003\n",
       "\n",
       "[88 rows x 1 columns]"
      ]
     },
     "execution_count": 129,
     "metadata": {},
     "output_type": "execute_result"
    }
   ],
   "source": [
    "results_df.groupby(\"model_name\").mean().sort_values('map', ascending=False)"
   ]
  },
  {
   "cell_type": "code",
   "execution_count": 136,
   "id": "ee2afcb9-bbf0-4923-a0b9-05dd5cbde3d3",
   "metadata": {},
   "outputs": [],
   "source": [
    "dataset = Dataset.construct(\n",
    "    interactions_df=interactions,\n",
    "    user_features_df=None,\n",
    "    item_features_df=item_feat,\n",
    "    cat_item_features=['genre', 'release_year']\n",
    ")"
   ]
  },
  {
   "cell_type": "markdown",
   "id": "dd34561f-40fc-427e-85bc-ced3a411afe9",
   "metadata": {},
   "source": [
    "Модель с параметрами n_users, 5 дает наилучший прирост в метрике"
   ]
  },
  {
   "cell_type": "code",
   "execution_count": 88,
   "id": "6bd9e3ae-ff62-42cd-9931-e048059e2a4d",
   "metadata": {},
   "outputs": [],
   "source": [
    "submission_users = sample_submission[sample_submission['user_id'].isin(dataset.user_id_map.external_ids)]['user_id']"
   ]
  },
  {
   "cell_type": "code",
   "execution_count": 155,
   "id": "473145f0-7735-4049-87da-db6a834a9b90",
   "metadata": {},
   "outputs": [],
   "source": [
    "recs = models['n_users_5'].recommend(submission_users, dataset, 10, filter_viewed=True)"
   ]
  },
  {
   "cell_type": "code",
   "execution_count": 162,
   "id": "ee1eb703-43c5-460f-a0f6-0de99e85641e",
   "metadata": {},
   "outputs": [],
   "source": [
    "preds = []\n",
    "default = [9728, 15297, 10440, 14488, 13865, 12192, 341, 4151, 3734, 512]"
   ]
  },
  {
   "cell_type": "code",
   "execution_count": 178,
   "id": "739a8d30-8e02-4e18-a788-fcdd6673be31",
   "metadata": {},
   "outputs": [
    {
     "data": {
      "application/vnd.jupyter.widget-view+json": {
       "model_id": "727d0687ee7f42399124d31769eb6b41",
       "version_major": 2,
       "version_minor": 0
      },
      "text/plain": [
       "  0%|          | 0/193113 [00:00<?, ?it/s]"
      ]
     },
     "metadata": {},
     "output_type": "display_data"
    }
   ],
   "source": [
    "for i, user_id in tqdm(enumerate(sample_submission['user_id']), total=len(sample_submission)):\n",
    "    items = list(recs[recs.user_id == user_id]['item_id'])\n",
    "    \n",
    "    if items: \n",
    "        preds.append(items)\n",
    "    else:\n",
    "        preds.append(default)"
   ]
  },
  {
   "cell_type": "code",
   "execution_count": 180,
   "id": "3202c4e3-9165-43b4-9bb6-7c577116dab6",
   "metadata": {},
   "outputs": [],
   "source": [
    "sample_submission['item_id'] = preds"
   ]
  },
  {
   "cell_type": "code",
   "execution_count": 184,
   "id": "e7c0b8ba-d9c6-4afb-8d2c-0a8c1f74f847",
   "metadata": {},
   "outputs": [],
   "source": [
    "sample_submission.to_csv(\"submissions/popular_model.csv\", index=False)"
   ]
  },
  {
   "cell_type": "markdown",
   "id": "12e00c18-ebb4-493e-9fa1-69270957fa69",
   "metadata": {
    "tags": []
   },
   "source": [
    "# Hypeparameter tuning and fitting Popular among N percent of users model"
   ]
  },
  {
   "cell_type": "code",
   "execution_count": 61,
   "id": "3b2b8445-5e57-4653-94ef-39729ef5a191",
   "metadata": {
    "tags": []
   },
   "outputs": [],
   "source": [
    "def get_top_items_covered_users(matrix, n_users=1000) -> np.ndarray:\n",
    "    \n",
    "        assert matrix.format == 'csr'\n",
    "\n",
    "        item_set = []\n",
    "        covered_users = np.zeros(matrix.shape[0], dtype=bool)\n",
    "        while covered_users.sum() < n_users: \n",
    "            top_item = mode(matrix[~covered_users].indices)\n",
    "            item_set.append(top_item)\n",
    "            covered_users += np.maximum.reduceat(matrix.indices==top_item, \n",
    "                                                 matrix.indptr[:-1], \n",
    "                                                 dtype=bool) \n",
    "        return item_set"
   ]
  },
  {
   "cell_type": "code",
   "execution_count": 62,
   "id": "4f31fccf-0888-4e80-9895-153269be16fc",
   "metadata": {
    "tags": []
   },
   "outputs": [],
   "source": [
    "model_parameters = {\n",
    "    \"n_users\" : [1000, 10000, 45000, 100000, 250000, 500000, 650000], \n",
    "    \"popularity\": [\"n_users\", \"n_interactions\", \"sum_weight\", \"mean_weight\"], \n",
    "}"
   ]
  },
  {
   "cell_type": "code",
   "execution_count": 85,
   "id": "c321bb30-976e-45cd-99ee-b9f879280e28",
   "metadata": {
    "tags": []
   },
   "outputs": [],
   "source": [
    "parameter_grid = list(product(*list(model_parameters.values())))"
   ]
  },
  {
   "cell_type": "code",
   "execution_count": 81,
   "id": "4119f585-6b8d-4331-abc5-8d6e86e91080",
   "metadata": {
    "collapsed": true,
    "jupyter": {
     "outputs_hidden": true
    },
    "tags": []
   },
   "outputs": [
    {
     "data": {
      "application/vnd.jupyter.widget-view+json": {
       "model_id": "1c15586959e046f1ae0bdb02112961a4",
       "version_major": 2,
       "version_minor": 0
      },
      "text/plain": [
       "  0%|          | 0/28 [00:00<?, ?it/s]"
      ]
     },
     "metadata": {},
     "output_type": "display_data"
    }
   ],
   "source": [
    "metrics = {\n",
    "    'MAP@10' : MAP(k=10), \n",
    "}\n",
    "\n",
    "results = {\n",
    "    \"model_name\" : [],\n",
    "    \"map\" : []\n",
    "}\n",
    "\n",
    "models = {}\n",
    "\n",
    "for params in tqdm(parameter_grid):\n",
    "    top_items = get_top_items_covered_users(whole_user_item_matrix, params[0])\n",
    "    folds = splitter.split(interactions_)\n",
    "    \n",
    "    for i, (train_ids, test_ids, _) in enumerate(folds):\n",
    "        df_train = interactions_.df.iloc[train_ids]\n",
    "        item_feat_train = item_feat[item_feat[Columns.Item].isin(df_train[Columns.Item])]\n",
    "        item_feat_train = item_feat_train[item_feat_train[Columns.Item].isin(top_items)]\n",
    "\n",
    "        dataset = Dataset.construct(\n",
    "            df_train,\n",
    "            None,\n",
    "            item_feat_train,\n",
    "            cat_item_features=['genre', 'release_year']\n",
    "        )\n",
    "\n",
    "        df_test = interactions_.df.iloc[test_ids][Columns.UserItem]\n",
    "        test_users = np.unique(df_test[Columns.User])\n",
    "\n",
    "        model = PopularModel(popularity=params[1])\n",
    "        model.fit(dataset)\n",
    "\n",
    "        recos = model.recommend(\n",
    "            dataset=dataset,\n",
    "            users = test_users,\n",
    "            k=10,\n",
    "            filter_viewed=True\n",
    "        )\n",
    "\n",
    "        metric_values = calc_metrics(\n",
    "            metrics,\n",
    "            reco=recos,\n",
    "            interactions=df_test,\n",
    "            prev_interactions=df_train\n",
    "        )\n",
    "\n",
    "        results['model_name'].append(f\"{params[0]}_{params[1]}\")\n",
    "        results['map'].append(metric_values[\"MAP@10\"])\n",
    "\n",
    "        models[f\"{params[0]}_{params[1]}\"] = model"
   ]
  },
  {
   "cell_type": "code",
   "execution_count": 86,
   "id": "b785e02e-f43c-4137-8f2c-728fb58d2194",
   "metadata": {
    "tags": []
   },
   "outputs": [
    {
     "data": {
      "text/html": [
       "<div>\n",
       "<style scoped>\n",
       "    .dataframe tbody tr th:only-of-type {\n",
       "        vertical-align: middle;\n",
       "    }\n",
       "\n",
       "    .dataframe tbody tr th {\n",
       "        vertical-align: top;\n",
       "    }\n",
       "\n",
       "    .dataframe thead th {\n",
       "        text-align: right;\n",
       "    }\n",
       "</style>\n",
       "<table border=\"1\" class=\"dataframe\">\n",
       "  <thead>\n",
       "    <tr style=\"text-align: right;\">\n",
       "      <th></th>\n",
       "      <th>model_name</th>\n",
       "      <th>map</th>\n",
       "    </tr>\n",
       "  </thead>\n",
       "  <tbody>\n",
       "    <tr>\n",
       "      <th>0</th>\n",
       "      <td>1000_n_users</td>\n",
       "      <td>9.040341e-02</td>\n",
       "    </tr>\n",
       "    <tr>\n",
       "      <th>1</th>\n",
       "      <td>1000_n_users</td>\n",
       "      <td>8.960530e-02</td>\n",
       "    </tr>\n",
       "    <tr>\n",
       "      <th>2</th>\n",
       "      <td>1000_n_users</td>\n",
       "      <td>8.260707e-02</td>\n",
       "    </tr>\n",
       "    <tr>\n",
       "      <th>3</th>\n",
       "      <td>1000_n_interactions</td>\n",
       "      <td>9.040341e-02</td>\n",
       "    </tr>\n",
       "    <tr>\n",
       "      <th>4</th>\n",
       "      <td>1000_n_interactions</td>\n",
       "      <td>8.960530e-02</td>\n",
       "    </tr>\n",
       "    <tr>\n",
       "      <th>...</th>\n",
       "      <td>...</td>\n",
       "      <td>...</td>\n",
       "    </tr>\n",
       "    <tr>\n",
       "      <th>79</th>\n",
       "      <td>650000_sum_weight</td>\n",
       "      <td>8.421890e-02</td>\n",
       "    </tr>\n",
       "    <tr>\n",
       "      <th>80</th>\n",
       "      <td>650000_sum_weight</td>\n",
       "      <td>7.647100e-02</td>\n",
       "    </tr>\n",
       "    <tr>\n",
       "      <th>81</th>\n",
       "      <td>650000_mean_weight</td>\n",
       "      <td>3.512099e-06</td>\n",
       "    </tr>\n",
       "    <tr>\n",
       "      <th>82</th>\n",
       "      <td>650000_mean_weight</td>\n",
       "      <td>4.583231e-07</td>\n",
       "    </tr>\n",
       "    <tr>\n",
       "      <th>83</th>\n",
       "      <td>650000_mean_weight</td>\n",
       "      <td>5.290443e-06</td>\n",
       "    </tr>\n",
       "  </tbody>\n",
       "</table>\n",
       "<p>84 rows × 2 columns</p>\n",
       "</div>"
      ],
      "text/plain": [
       "             model_name           map\n",
       "0          1000_n_users  9.040341e-02\n",
       "1          1000_n_users  8.960530e-02\n",
       "2          1000_n_users  8.260707e-02\n",
       "3   1000_n_interactions  9.040341e-02\n",
       "4   1000_n_interactions  8.960530e-02\n",
       "..                  ...           ...\n",
       "79    650000_sum_weight  8.421890e-02\n",
       "80    650000_sum_weight  7.647100e-02\n",
       "81   650000_mean_weight  3.512099e-06\n",
       "82   650000_mean_weight  4.583231e-07\n",
       "83   650000_mean_weight  5.290443e-06\n",
       "\n",
       "[84 rows x 2 columns]"
      ]
     },
     "execution_count": 86,
     "metadata": {},
     "output_type": "execute_result"
    }
   ],
   "source": [
    "results_df = pd.DataFrame(data=results)\n",
    "results_df"
   ]
  },
  {
   "cell_type": "code",
   "execution_count": 89,
   "id": "9c1ffe2e-9c52-4891-9e2f-e83b75f27935",
   "metadata": {},
   "outputs": [],
   "source": [
    "submission_users = sample_submission[sample_submission['user_id'].isin(dataset.user_id_map.external_ids)]['user_id']"
   ]
  },
  {
   "cell_type": "code",
   "execution_count": 91,
   "id": "54dd7229-c657-4a80-92c3-7c8f8d18e7f7",
   "metadata": {},
   "outputs": [
    {
     "data": {
      "text/html": [
       "<div>\n",
       "<style scoped>\n",
       "    .dataframe tbody tr th:only-of-type {\n",
       "        vertical-align: middle;\n",
       "    }\n",
       "\n",
       "    .dataframe tbody tr th {\n",
       "        vertical-align: top;\n",
       "    }\n",
       "\n",
       "    .dataframe thead th {\n",
       "        text-align: right;\n",
       "    }\n",
       "</style>\n",
       "<table border=\"1\" class=\"dataframe\">\n",
       "  <thead>\n",
       "    <tr style=\"text-align: right;\">\n",
       "      <th></th>\n",
       "      <th>map</th>\n",
       "    </tr>\n",
       "    <tr>\n",
       "      <th>model_name</th>\n",
       "      <th></th>\n",
       "    </tr>\n",
       "  </thead>\n",
       "  <tbody>\n",
       "    <tr>\n",
       "      <th>250000_n_users</th>\n",
       "      <td>0.087539</td>\n",
       "    </tr>\n",
       "    <tr>\n",
       "      <th>45000_n_interactions</th>\n",
       "      <td>0.087539</td>\n",
       "    </tr>\n",
       "    <tr>\n",
       "      <th>100000_n_users</th>\n",
       "      <td>0.087539</td>\n",
       "    </tr>\n",
       "    <tr>\n",
       "      <th>650000_n_users</th>\n",
       "      <td>0.087539</td>\n",
       "    </tr>\n",
       "    <tr>\n",
       "      <th>650000_n_interactions</th>\n",
       "      <td>0.087539</td>\n",
       "    </tr>\n",
       "  </tbody>\n",
       "</table>\n",
       "</div>"
      ],
      "text/plain": [
       "                            map\n",
       "model_name                     \n",
       "250000_n_users         0.087539\n",
       "45000_n_interactions   0.087539\n",
       "100000_n_users         0.087539\n",
       "650000_n_users         0.087539\n",
       "650000_n_interactions  0.087539"
      ]
     },
     "execution_count": 91,
     "metadata": {},
     "output_type": "execute_result"
    }
   ],
   "source": [
    "results_df.groupby(\"model_name\").mean().sort_values('map', ascending=False).head()"
   ]
  },
  {
   "cell_type": "code",
   "execution_count": 92,
   "id": "d7aeb0d0-d992-4ef7-81dd-d21b58fa46f1",
   "metadata": {},
   "outputs": [],
   "source": [
    "recs = models['250000_n_users'].recommend(submission_users, dataset, 10, filter_viewed=True)"
   ]
  },
  {
   "cell_type": "code",
   "execution_count": 93,
   "id": "3bbd97eb-2b80-4070-bd90-56274bb1d8ef",
   "metadata": {},
   "outputs": [],
   "source": [
    "preds = []\n",
    "default = [9728, 15297, 10440, 14488, 13865, 12192, 341, 4151, 3734, 512]"
   ]
  },
  {
   "cell_type": "code",
   "execution_count": 94,
   "id": "5bb40b3f-cd99-4c49-8047-615438630d73",
   "metadata": {},
   "outputs": [
    {
     "data": {
      "application/vnd.jupyter.widget-view+json": {
       "model_id": "36ed7d90e37249a9aee3748ec41ad94d",
       "version_major": 2,
       "version_minor": 0
      },
      "text/plain": [
       "  0%|          | 0/193113 [00:00<?, ?it/s]"
      ]
     },
     "metadata": {},
     "output_type": "display_data"
    }
   ],
   "source": [
    "for i, user_id in tqdm(enumerate(sample_submission['user_id']), total=len(sample_submission)):\n",
    "    items = list(recs[recs.user_id == user_id]['item_id'])\n",
    "    \n",
    "    if items: \n",
    "        preds.append(items)\n",
    "    else:\n",
    "        preds.append(default)"
   ]
  },
  {
   "cell_type": "code",
   "execution_count": 95,
   "id": "01e8775d-550e-46f6-8817-5199e2200d5e",
   "metadata": {},
   "outputs": [],
   "source": [
    "sample_submission['item_id'] = preds"
   ]
  },
  {
   "cell_type": "code",
   "execution_count": 96,
   "id": "af5932bb-f5af-4801-b78d-08d2b960f16d",
   "metadata": {},
   "outputs": [],
   "source": [
    "sample_submission.to_csv(\"submissions/popular_among_n_unique_users_model.csv\", index=False)"
   ]
  },
  {
   "cell_type": "markdown",
   "id": "37190581-4d68-4ff8-a8a5-04f413fb86bf",
   "metadata": {},
   "source": [
    "# Hyperparameter tuning and fitting Most Polular in category models on item features"
   ]
  },
  {
   "cell_type": "code",
   "execution_count": 152,
   "id": "66a84582-3cee-4c7a-9a13-fbf61e23e825",
   "metadata": {},
   "outputs": [],
   "source": [
    "model_parameters = {\n",
    "    \"period\" : [None] + [i for i in range(1, 10)],\n",
    "    \"category_feature\" : ['genre', 'release_year', 'director'],\n",
    "    \"n_categories\" : [3,4,5]\n",
    "}"
   ]
  },
  {
   "cell_type": "code",
   "execution_count": 153,
   "id": "ec867709-62fa-4d10-8500-d0fa7068429c",
   "metadata": {},
   "outputs": [],
   "source": [
    "parameter_grid = list(product(*list(model_parameters.values())))"
   ]
  },
  {
   "cell_type": "code",
   "execution_count": 154,
   "id": "954c56aa-9d6f-4949-be49-763499454bc8",
   "metadata": {},
   "outputs": [
    {
     "data": {
      "application/vnd.jupyter.widget-view+json": {
       "model_id": "7981e5e47d8e47618756ee4d74c853c0",
       "version_major": 2,
       "version_minor": 0
      },
      "text/plain": [
       "  0%|          | 0/3 [00:00<?, ?it/s]"
      ]
     },
     "metadata": {},
     "output_type": "display_data"
    },
    {
     "data": {
      "application/vnd.jupyter.widget-view+json": {
       "model_id": "9743e0a0722d404ca74da48caa2fadaf",
       "version_major": 2,
       "version_minor": 0
      },
      "text/plain": [
       "  0%|          | 0/90 [00:00<?, ?it/s]"
      ]
     },
     "metadata": {},
     "output_type": "display_data"
    },
    {
     "data": {
      "application/vnd.jupyter.widget-view+json": {
       "model_id": "11d315e27a2c4da083b38e23cca9e714",
       "version_major": 2,
       "version_minor": 0
      },
      "text/plain": [
       "  0%|          | 0/90 [00:00<?, ?it/s]"
      ]
     },
     "metadata": {},
     "output_type": "display_data"
    },
    {
     "data": {
      "application/vnd.jupyter.widget-view+json": {
       "model_id": "b139cec22f6047869b9ab33459324efb",
       "version_major": 2,
       "version_minor": 0
      },
      "text/plain": [
       "  0%|          | 0/90 [00:00<?, ?it/s]"
      ]
     },
     "metadata": {},
     "output_type": "display_data"
    }
   ],
   "source": [
    "folds = splitter.split(interactions_)\n",
    "\n",
    "metrics = {\n",
    "    'MAP@10' : MAP(k=10), \n",
    "}\n",
    "\n",
    "results = {\n",
    "    \"model_name\" : [],\n",
    "    \"map\" : []\n",
    "}\n",
    "\n",
    "models = {}\n",
    "\n",
    "for i, (train_ids, test_ids, _) in tqdm(enumerate(folds), total=splitter.get_n_splits(interactions_)):\n",
    "    df_train = interactions_.df.iloc[train_ids]\n",
    "    item_feat_train = item_feat[item_feat[Columns.Item].isin(df_train[Columns.Item])]\n",
    "\n",
    "    dataset = Dataset.construct(\n",
    "        df_train,\n",
    "        None,\n",
    "        item_features_df=item_feat_train,\n",
    "        cat_item_features=['genre', 'release_year', 'director']\n",
    "    )\n",
    "\n",
    "    df_test = interactions_.df.iloc[test_ids][Columns.UserItem]\n",
    "    test_users = np.unique(df_test[Columns.User])\n",
    "    \n",
    "    for params in tqdm(parameter_grid):\n",
    "        model = PopularInCategoryModel(period=pd.to_timedelta(params[0], unit='D'),\n",
    "                                       category_feature=params[1],\n",
    "                                       n_categories=params[2])\n",
    "        model.fit(dataset)\n",
    "\n",
    "        recos = model.recommend(\n",
    "            users = test_users,\n",
    "            dataset=dataset,\n",
    "            k=10,\n",
    "            filter_viewed=True\n",
    "        )\n",
    "\n",
    "        metric_values = calc_metrics(\n",
    "            metrics,\n",
    "            reco=recos,\n",
    "            interactions=df_test,\n",
    "            prev_interactions=df_train\n",
    "        )\n",
    "        \n",
    "        results['model_name'].append(f\"{params[0]}_{params[1]}_{params[2]}\")\n",
    "        results['map'].append(metric_values[\"MAP@10\"])\n",
    "        \n",
    "        models[f\"{params[0]}_{params[1]}_{params[2]}\"] = model"
   ]
  },
  {
   "cell_type": "code",
   "execution_count": 156,
   "id": "da3e5875-8528-4fb3-afc0-a7ce1f720078",
   "metadata": {},
   "outputs": [],
   "source": [
    "results_df = pd.DataFrame(data=results)"
   ]
  },
  {
   "cell_type": "code",
   "execution_count": 159,
   "id": "cb238122-8b50-47b5-a1bd-1161efc182d0",
   "metadata": {},
   "outputs": [
    {
     "data": {
      "text/html": [
       "<div>\n",
       "<style scoped>\n",
       "    .dataframe tbody tr th:only-of-type {\n",
       "        vertical-align: middle;\n",
       "    }\n",
       "\n",
       "    .dataframe tbody tr th {\n",
       "        vertical-align: top;\n",
       "    }\n",
       "\n",
       "    .dataframe thead th {\n",
       "        text-align: right;\n",
       "    }\n",
       "</style>\n",
       "<table border=\"1\" class=\"dataframe\">\n",
       "  <thead>\n",
       "    <tr style=\"text-align: right;\">\n",
       "      <th></th>\n",
       "      <th>map</th>\n",
       "    </tr>\n",
       "    <tr>\n",
       "      <th>model_name</th>\n",
       "      <th></th>\n",
       "    </tr>\n",
       "  </thead>\n",
       "  <tbody>\n",
       "    <tr>\n",
       "      <th>7_release_year_4</th>\n",
       "      <td>0.075586</td>\n",
       "    </tr>\n",
       "    <tr>\n",
       "      <th>3_genre_5</th>\n",
       "      <td>0.075541</td>\n",
       "    </tr>\n",
       "    <tr>\n",
       "      <th>4_genre_5</th>\n",
       "      <td>0.075461</td>\n",
       "    </tr>\n",
       "    <tr>\n",
       "      <th>5_genre_5</th>\n",
       "      <td>0.075409</td>\n",
       "    </tr>\n",
       "    <tr>\n",
       "      <th>8_release_year_4</th>\n",
       "      <td>0.075399</td>\n",
       "    </tr>\n",
       "    <tr>\n",
       "      <th>...</th>\n",
       "      <td>...</td>\n",
       "    </tr>\n",
       "    <tr>\n",
       "      <th>3_director_3</th>\n",
       "      <td>0.064431</td>\n",
       "    </tr>\n",
       "    <tr>\n",
       "      <th>2_director_3</th>\n",
       "      <td>0.064430</td>\n",
       "    </tr>\n",
       "    <tr>\n",
       "      <th>5_director_3</th>\n",
       "      <td>0.063816</td>\n",
       "    </tr>\n",
       "    <tr>\n",
       "      <th>4_director_3</th>\n",
       "      <td>0.063816</td>\n",
       "    </tr>\n",
       "    <tr>\n",
       "      <th>None_director_3</th>\n",
       "      <td>0.061356</td>\n",
       "    </tr>\n",
       "  </tbody>\n",
       "</table>\n",
       "<p>90 rows × 1 columns</p>\n",
       "</div>"
      ],
      "text/plain": [
       "                       map\n",
       "model_name                \n",
       "7_release_year_4  0.075586\n",
       "3_genre_5         0.075541\n",
       "4_genre_5         0.075461\n",
       "5_genre_5         0.075409\n",
       "8_release_year_4  0.075399\n",
       "...                    ...\n",
       "3_director_3      0.064431\n",
       "2_director_3      0.064430\n",
       "5_director_3      0.063816\n",
       "4_director_3      0.063816\n",
       "None_director_3   0.061356\n",
       "\n",
       "[90 rows x 1 columns]"
      ]
     },
     "execution_count": 159,
     "metadata": {},
     "output_type": "execute_result"
    }
   ],
   "source": [
    "results_df.groupby(\"model_name\").mean().sort_values('map', ascending=False)"
   ]
  },
  {
   "cell_type": "code",
   "execution_count": 165,
   "id": "12ba8ed1-f87c-4215-bfe4-1d3a8b769b1b",
   "metadata": {},
   "outputs": [],
   "source": [
    "dataset = Dataset.construct(\n",
    "        interactions,\n",
    "        None,\n",
    "        item_features_df=item_feat,\n",
    "        cat_item_features=['genre', 'release_year', 'director']\n",
    "    )"
   ]
  },
  {
   "cell_type": "code",
   "execution_count": 172,
   "id": "b97fcccb-56d4-4a1b-b671-b6d23dabb1de",
   "metadata": {},
   "outputs": [],
   "source": [
    "recs = models['7_release_year_4'].recommend(submission_users, dataset, 10, filter_viewed=True)"
   ]
  },
  {
   "cell_type": "code",
   "execution_count": 174,
   "id": "97aec160-0256-4785-816c-324b3b51100a",
   "metadata": {},
   "outputs": [
    {
     "data": {
      "application/vnd.jupyter.widget-view+json": {
       "model_id": "f2295c21c7ef4fdb8c41132d127ddb6d",
       "version_major": 2,
       "version_minor": 0
      },
      "text/plain": [
       "  0%|          | 0/193113 [00:00<?, ?it/s]"
      ]
     },
     "metadata": {},
     "output_type": "display_data"
    }
   ],
   "source": [
    "preds = []\n",
    "\n",
    "for i, user_id in tqdm(enumerate(sample_submission['user_id']), total=len(sample_submission)):\n",
    "    items = list(recs[recs.user_id == user_id]['item_id'])\n",
    "    \n",
    "    if items: \n",
    "        preds.append(items)\n",
    "    else:\n",
    "        preds.append(default)"
   ]
  },
  {
   "cell_type": "code",
   "execution_count": 175,
   "id": "1606d1dc-6cc3-4915-b455-ce25dac418ef",
   "metadata": {},
   "outputs": [],
   "source": [
    "sample_submission['item_id'] = preds"
   ]
  },
  {
   "cell_type": "code",
   "execution_count": 176,
   "id": "fb53a6cf-2e77-4cec-896a-4aa726514f42",
   "metadata": {},
   "outputs": [],
   "source": [
    "sample_submission.to_csv(\"submissions/popular_in_category_items.csv\", index=False)"
   ]
  },
  {
   "cell_type": "code",
   "execution_count": 8,
   "id": "074f2a40-454c-43a2-ab7e-6ebbe0b203f9",
   "metadata": {},
   "outputs": [],
   "source": [
    "users = users.dropna()"
   ]
  },
  {
   "cell_type": "code",
   "execution_count": 9,
   "id": "41c0f819-635c-416d-b1ca-928a763e555c",
   "metadata": {},
   "outputs": [
    {
     "data": {
      "text/html": [
       "<div>\n",
       "<style scoped>\n",
       "    .dataframe tbody tr th:only-of-type {\n",
       "        vertical-align: middle;\n",
       "    }\n",
       "\n",
       "    .dataframe tbody tr th {\n",
       "        vertical-align: top;\n",
       "    }\n",
       "\n",
       "    .dataframe thead th {\n",
       "        text-align: right;\n",
       "    }\n",
       "</style>\n",
       "<table border=\"1\" class=\"dataframe\">\n",
       "  <thead>\n",
       "    <tr style=\"text-align: right;\">\n",
       "      <th></th>\n",
       "      <th>user_id</th>\n",
       "      <th>age</th>\n",
       "      <th>income</th>\n",
       "      <th>sex</th>\n",
       "      <th>kids_flg</th>\n",
       "    </tr>\n",
       "  </thead>\n",
       "  <tbody>\n",
       "    <tr>\n",
       "      <th>0</th>\n",
       "      <td>973171</td>\n",
       "      <td>age_25_34</td>\n",
       "      <td>income_60_90</td>\n",
       "      <td>М</td>\n",
       "      <td>1</td>\n",
       "    </tr>\n",
       "    <tr>\n",
       "      <th>1</th>\n",
       "      <td>962099</td>\n",
       "      <td>age_18_24</td>\n",
       "      <td>income_20_40</td>\n",
       "      <td>М</td>\n",
       "      <td>0</td>\n",
       "    </tr>\n",
       "    <tr>\n",
       "      <th>2</th>\n",
       "      <td>1047345</td>\n",
       "      <td>age_45_54</td>\n",
       "      <td>income_40_60</td>\n",
       "      <td>Ж</td>\n",
       "      <td>0</td>\n",
       "    </tr>\n",
       "    <tr>\n",
       "      <th>3</th>\n",
       "      <td>721985</td>\n",
       "      <td>age_45_54</td>\n",
       "      <td>income_20_40</td>\n",
       "      <td>Ж</td>\n",
       "      <td>0</td>\n",
       "    </tr>\n",
       "    <tr>\n",
       "      <th>4</th>\n",
       "      <td>704055</td>\n",
       "      <td>age_35_44</td>\n",
       "      <td>income_60_90</td>\n",
       "      <td>Ж</td>\n",
       "      <td>0</td>\n",
       "    </tr>\n",
       "    <tr>\n",
       "      <th>...</th>\n",
       "      <td>...</td>\n",
       "      <td>...</td>\n",
       "      <td>...</td>\n",
       "      <td>...</td>\n",
       "      <td>...</td>\n",
       "    </tr>\n",
       "    <tr>\n",
       "      <th>840190</th>\n",
       "      <td>393868</td>\n",
       "      <td>age_25_34</td>\n",
       "      <td>income_20_40</td>\n",
       "      <td>М</td>\n",
       "      <td>0</td>\n",
       "    </tr>\n",
       "    <tr>\n",
       "      <th>840191</th>\n",
       "      <td>365945</td>\n",
       "      <td>age_25_34</td>\n",
       "      <td>income_20_40</td>\n",
       "      <td>Ж</td>\n",
       "      <td>0</td>\n",
       "    </tr>\n",
       "    <tr>\n",
       "      <th>840192</th>\n",
       "      <td>339025</td>\n",
       "      <td>age_65_inf</td>\n",
       "      <td>income_0_20</td>\n",
       "      <td>Ж</td>\n",
       "      <td>0</td>\n",
       "    </tr>\n",
       "    <tr>\n",
       "      <th>840193</th>\n",
       "      <td>983617</td>\n",
       "      <td>age_18_24</td>\n",
       "      <td>income_20_40</td>\n",
       "      <td>Ж</td>\n",
       "      <td>1</td>\n",
       "    </tr>\n",
       "    <tr>\n",
       "      <th>840196</th>\n",
       "      <td>166555</td>\n",
       "      <td>age_65_inf</td>\n",
       "      <td>income_20_40</td>\n",
       "      <td>Ж</td>\n",
       "      <td>0</td>\n",
       "    </tr>\n",
       "  </tbody>\n",
       "</table>\n",
       "<p>818683 rows × 5 columns</p>\n",
       "</div>"
      ],
      "text/plain": [
       "        user_id         age        income sex  kids_flg\n",
       "0        973171   age_25_34  income_60_90   М         1\n",
       "1        962099   age_18_24  income_20_40   М         0\n",
       "2       1047345   age_45_54  income_40_60   Ж         0\n",
       "3        721985   age_45_54  income_20_40   Ж         0\n",
       "4        704055   age_35_44  income_60_90   Ж         0\n",
       "...         ...         ...           ...  ..       ...\n",
       "840190   393868   age_25_34  income_20_40   М         0\n",
       "840191   365945   age_25_34  income_20_40   Ж         0\n",
       "840192   339025  age_65_inf   income_0_20   Ж         0\n",
       "840193   983617   age_18_24  income_20_40   Ж         1\n",
       "840196   166555  age_65_inf  income_20_40   Ж         0\n",
       "\n",
       "[818683 rows x 5 columns]"
      ]
     },
     "execution_count": 9,
     "metadata": {},
     "output_type": "execute_result"
    }
   ],
   "source": [
    "users"
   ]
  },
  {
   "cell_type": "code",
   "execution_count": 10,
   "id": "ea8a2970-7e68-462b-99e6-1e1124b11c77",
   "metadata": {},
   "outputs": [],
   "source": [
    "user_features = ['age', 'income', 'sex', 'kids_flg']"
   ]
  },
  {
   "cell_type": "code",
   "execution_count": 11,
   "id": "5d61196f-e125-4e0f-88e0-814f180b1298",
   "metadata": {},
   "outputs": [],
   "source": [
    "def create_feature_wise_dataset(dataframe:pd.DataFrame, features:List[str]) -> pd.DataFrame:\n",
    "    user_features = pd.DataFrame()\n",
    "    \n",
    "    for feature in features:\n",
    "        feature_dataset = dataframe[[Columns.User, feature]]\n",
    "        feature_dataset.columns = [Columns.User, 'value']\n",
    "        feature_dataset['feature'] = feature\n",
    "        \n",
    "        user_features = pd.concat([user_features, feature_dataset])\n",
    "        \n",
    "    return user_features"
   ]
  },
  {
   "cell_type": "code",
   "execution_count": 12,
   "id": "ad1b7c5a-016f-4cac-b983-76978a48e808",
   "metadata": {},
   "outputs": [
    {
     "data": {
      "text/html": [
       "<div>\n",
       "<style scoped>\n",
       "    .dataframe tbody tr th:only-of-type {\n",
       "        vertical-align: middle;\n",
       "    }\n",
       "\n",
       "    .dataframe tbody tr th {\n",
       "        vertical-align: top;\n",
       "    }\n",
       "\n",
       "    .dataframe thead th {\n",
       "        text-align: right;\n",
       "    }\n",
       "</style>\n",
       "<table border=\"1\" class=\"dataframe\">\n",
       "  <thead>\n",
       "    <tr style=\"text-align: right;\">\n",
       "      <th></th>\n",
       "      <th>user_id</th>\n",
       "      <th>value</th>\n",
       "      <th>feature</th>\n",
       "    </tr>\n",
       "  </thead>\n",
       "  <tbody>\n",
       "    <tr>\n",
       "      <th>0</th>\n",
       "      <td>973171</td>\n",
       "      <td>age_25_34</td>\n",
       "      <td>age</td>\n",
       "    </tr>\n",
       "    <tr>\n",
       "      <th>1</th>\n",
       "      <td>962099</td>\n",
       "      <td>age_18_24</td>\n",
       "      <td>age</td>\n",
       "    </tr>\n",
       "    <tr>\n",
       "      <th>2</th>\n",
       "      <td>1047345</td>\n",
       "      <td>age_45_54</td>\n",
       "      <td>age</td>\n",
       "    </tr>\n",
       "    <tr>\n",
       "      <th>3</th>\n",
       "      <td>721985</td>\n",
       "      <td>age_45_54</td>\n",
       "      <td>age</td>\n",
       "    </tr>\n",
       "    <tr>\n",
       "      <th>4</th>\n",
       "      <td>704055</td>\n",
       "      <td>age_35_44</td>\n",
       "      <td>age</td>\n",
       "    </tr>\n",
       "    <tr>\n",
       "      <th>...</th>\n",
       "      <td>...</td>\n",
       "      <td>...</td>\n",
       "      <td>...</td>\n",
       "    </tr>\n",
       "    <tr>\n",
       "      <th>840190</th>\n",
       "      <td>393868</td>\n",
       "      <td>0</td>\n",
       "      <td>kids_flg</td>\n",
       "    </tr>\n",
       "    <tr>\n",
       "      <th>840191</th>\n",
       "      <td>365945</td>\n",
       "      <td>0</td>\n",
       "      <td>kids_flg</td>\n",
       "    </tr>\n",
       "    <tr>\n",
       "      <th>840192</th>\n",
       "      <td>339025</td>\n",
       "      <td>0</td>\n",
       "      <td>kids_flg</td>\n",
       "    </tr>\n",
       "    <tr>\n",
       "      <th>840193</th>\n",
       "      <td>983617</td>\n",
       "      <td>1</td>\n",
       "      <td>kids_flg</td>\n",
       "    </tr>\n",
       "    <tr>\n",
       "      <th>840196</th>\n",
       "      <td>166555</td>\n",
       "      <td>0</td>\n",
       "      <td>kids_flg</td>\n",
       "    </tr>\n",
       "  </tbody>\n",
       "</table>\n",
       "<p>3274732 rows × 3 columns</p>\n",
       "</div>"
      ],
      "text/plain": [
       "        user_id      value   feature\n",
       "0        973171  age_25_34       age\n",
       "1        962099  age_18_24       age\n",
       "2       1047345  age_45_54       age\n",
       "3        721985  age_45_54       age\n",
       "4        704055  age_35_44       age\n",
       "...         ...        ...       ...\n",
       "840190   393868          0  kids_flg\n",
       "840191   365945          0  kids_flg\n",
       "840192   339025          0  kids_flg\n",
       "840193   983617          1  kids_flg\n",
       "840196   166555          0  kids_flg\n",
       "\n",
       "[3274732 rows x 3 columns]"
      ]
     },
     "execution_count": 12,
     "metadata": {},
     "output_type": "execute_result"
    }
   ],
   "source": [
    "user_features_df = create_feature_wise_dataset(users, user_features)\n",
    "user_features_df"
   ]
  },
  {
   "cell_type": "code",
   "execution_count": 13,
   "id": "dba7849b-142f-4b51-b07d-5fcb9f28e35a",
   "metadata": {},
   "outputs": [],
   "source": [
    "model_parameters = {\n",
    "    \"period\" : [None] + [i for i in range(1, 8)],\n",
    "    \"category_feature\" : user_features,\n",
    "    \"n_categories\" : [2,3,4]\n",
    "}"
   ]
  },
  {
   "cell_type": "code",
   "execution_count": 14,
   "id": "cfa82241-bb74-49be-8302-a883d6fc9f74",
   "metadata": {},
   "outputs": [],
   "source": [
    "parameter_grid = list(product(*list(model_parameters.values())))"
   ]
  },
  {
   "cell_type": "code",
   "execution_count": 25,
   "id": "f76928d6-50d6-4b58-98c6-112ce030abae",
   "metadata": {},
   "outputs": [
    {
     "data": {
      "application/vnd.jupyter.widget-view+json": {
       "model_id": "0dbd71c1f9984cfaa28abd2846997f89",
       "version_major": 2,
       "version_minor": 0
      },
      "text/plain": [
       "  0%|          | 0/3 [00:00<?, ?it/s]"
      ]
     },
     "metadata": {},
     "output_type": "display_data"
    },
    {
     "ename": "RuntimeError",
     "evalue": "An error has occurred while constructing item features: ValueError('negative column index found')",
     "output_type": "error",
     "traceback": [
      "\u001b[0;31m---------------------------------------------------------------------------\u001b[0m",
      "\u001b[0;31mValueError\u001b[0m                                Traceback (most recent call last)",
      "File \u001b[0;32m~/.conda/envs/recsys/lib/python3.8/site-packages/rectools/dataset/dataset.py:160\u001b[0m, in \u001b[0;36mDataset._make_features\u001b[0;34m(df, cat_features, make_dense, id_map, possible_id_col, feature_type)\u001b[0m\n\u001b[1;32m    159\u001b[0m \u001b[38;5;28;01mtry\u001b[39;00m:\n\u001b[0;32m--> 160\u001b[0m     \u001b[38;5;28;01mreturn\u001b[39;00m \u001b[43mSparseFeatures\u001b[49m\u001b[38;5;241;43m.\u001b[39;49m\u001b[43mfrom_flatten\u001b[49m\u001b[43m(\u001b[49m\u001b[43mdf\u001b[49m\u001b[43m,\u001b[49m\u001b[43m \u001b[49m\u001b[43mid_map\u001b[49m\u001b[43m,\u001b[49m\u001b[43m \u001b[49m\u001b[43mcat_features\u001b[49m\u001b[43m,\u001b[49m\u001b[43m \u001b[49m\u001b[43mid_col\u001b[49m\u001b[38;5;241;43m=\u001b[39;49m\u001b[43mid_col\u001b[49m\u001b[43m)\u001b[49m\n\u001b[1;32m    161\u001b[0m \u001b[38;5;28;01mexcept\u001b[39;00m UnknownIdError:\n",
      "File \u001b[0;32m~/.conda/envs/recsys/lib/python3.8/site-packages/rectools/dataset/features.py:343\u001b[0m, in \u001b[0;36mSparseFeatures.from_flatten\u001b[0;34m(cls, df, id_map, cat_features, id_col, feature_col, value_col, weight_col)\u001b[0m\n\u001b[1;32m    342\u001b[0m \u001b[38;5;28;01mfor\u001b[39;00m cat_feature \u001b[38;5;129;01min\u001b[39;00m cat_features:\n\u001b[0;32m--> 343\u001b[0m     csr, names \u001b[38;5;241m=\u001b[39m \u001b[38;5;28;43mcls\u001b[39;49m\u001b[38;5;241;43m.\u001b[39;49m\u001b[43m_make_cat_feature\u001b[49m\u001b[43m(\u001b[49m\u001b[43mdf\u001b[49m\u001b[43m,\u001b[49m\u001b[43m \u001b[49m\u001b[43mcat_feature\u001b[49m\u001b[43m,\u001b[49m\u001b[43m \u001b[49m\u001b[43mid_map\u001b[49m\u001b[38;5;241;43m.\u001b[39;49m\u001b[43minternal_ids\u001b[49m\u001b[38;5;241;43m.\u001b[39;49m\u001b[43msize\u001b[49m\u001b[43m)\u001b[49m\n\u001b[1;32m    344\u001b[0m     csrs\u001b[38;5;241m.\u001b[39mappend(csr)\n",
      "File \u001b[0;32m~/.conda/envs/recsys/lib/python3.8/site-packages/rectools/dataset/features.py:390\u001b[0m, in \u001b[0;36mSparseFeatures._make_cat_feature\u001b[0;34m(cls, df, feature, n_objects)\u001b[0m\n\u001b[1;32m    389\u001b[0m value_map \u001b[38;5;241m=\u001b[39m pd\u001b[38;5;241m.\u001b[39mSeries(ids, index\u001b[38;5;241m=\u001b[39munq_feature_values)\n\u001b[0;32m--> 390\u001b[0m csr \u001b[38;5;241m=\u001b[39m \u001b[43msparse\u001b[49m\u001b[38;5;241;43m.\u001b[39;49m\u001b[43mcsr_matrix\u001b[49m\u001b[43m(\u001b[49m\n\u001b[1;32m    391\u001b[0m \u001b[43m    \u001b[49m\u001b[43m(\u001b[49m\u001b[43mnp\u001b[49m\u001b[38;5;241;43m.\u001b[39;49m\u001b[43mones\u001b[49m\u001b[43m(\u001b[49m\u001b[38;5;28;43mlen\u001b[39;49m\u001b[43m(\u001b[49m\u001b[43mdf\u001b[49m\u001b[43m)\u001b[49m\u001b[43m)\u001b[49m\u001b[43m \u001b[49m\u001b[38;5;241;43m*\u001b[39;49m\u001b[43m \u001b[49m\u001b[43mdf\u001b[49m\u001b[43m[\u001b[49m\u001b[38;5;124;43m\"\u001b[39;49m\u001b[38;5;124;43mweight\u001b[39;49m\u001b[38;5;124;43m\"\u001b[39;49m\u001b[43m]\u001b[49m\u001b[43m,\u001b[49m\u001b[43m \u001b[49m\u001b[43m(\u001b[49m\u001b[43mdf\u001b[49m\u001b[43m[\u001b[49m\u001b[38;5;124;43m\"\u001b[39;49m\u001b[38;5;124;43mid\u001b[39;49m\u001b[38;5;124;43m\"\u001b[39;49m\u001b[43m]\u001b[49m\u001b[43m,\u001b[49m\u001b[43m \u001b[49m\u001b[43mdf\u001b[49m\u001b[43m[\u001b[49m\u001b[38;5;124;43m\"\u001b[39;49m\u001b[38;5;124;43mvalue\u001b[39;49m\u001b[38;5;124;43m\"\u001b[39;49m\u001b[43m]\u001b[49m\u001b[38;5;241;43m.\u001b[39;49m\u001b[43mmap\u001b[49m\u001b[43m(\u001b[49m\u001b[43mvalue_map\u001b[49m\u001b[43m)\u001b[49m\u001b[43m)\u001b[49m\u001b[43m)\u001b[49m\u001b[43m,\u001b[49m\n\u001b[1;32m    392\u001b[0m \u001b[43m    \u001b[49m\u001b[43mshape\u001b[49m\u001b[38;5;241;43m=\u001b[39;49m\u001b[43m(\u001b[49m\u001b[43mn_objects\u001b[49m\u001b[43m,\u001b[49m\u001b[43m \u001b[49m\u001b[43mn_unq_values\u001b[49m\u001b[43m)\u001b[49m\u001b[43m,\u001b[49m\n\u001b[1;32m    393\u001b[0m \u001b[43m\u001b[49m\u001b[43m)\u001b[49m\n\u001b[1;32m    394\u001b[0m names \u001b[38;5;241m=\u001b[39m [(feature, value) \u001b[38;5;28;01mfor\u001b[39;00m value \u001b[38;5;129;01min\u001b[39;00m value_map\u001b[38;5;241m.\u001b[39mindex\u001b[38;5;241m.\u001b[39mvalues[np\u001b[38;5;241m.\u001b[39margsort(value_map\u001b[38;5;241m.\u001b[39mvalues)]]\n",
      "File \u001b[0;32m~/.conda/envs/recsys/lib/python3.8/site-packages/scipy/sparse/_compressed.py:53\u001b[0m, in \u001b[0;36m_cs_matrix.__init__\u001b[0;34m(self, arg1, shape, dtype, copy)\u001b[0m\n\u001b[1;32m     50\u001b[0m \u001b[38;5;28;01mif\u001b[39;00m \u001b[38;5;28mlen\u001b[39m(arg1) \u001b[38;5;241m==\u001b[39m \u001b[38;5;241m2\u001b[39m:\n\u001b[1;32m     51\u001b[0m     \u001b[38;5;66;03m# (data, ij) format\u001b[39;00m\n\u001b[1;32m     52\u001b[0m     other \u001b[38;5;241m=\u001b[39m \u001b[38;5;28mself\u001b[39m\u001b[38;5;241m.\u001b[39m\u001b[38;5;18m__class__\u001b[39m(\n\u001b[0;32m---> 53\u001b[0m         \u001b[38;5;28;43mself\u001b[39;49m\u001b[38;5;241;43m.\u001b[39;49m\u001b[43m_coo_container\u001b[49m\u001b[43m(\u001b[49m\u001b[43marg1\u001b[49m\u001b[43m,\u001b[49m\u001b[43m \u001b[49m\u001b[43mshape\u001b[49m\u001b[38;5;241;43m=\u001b[39;49m\u001b[43mshape\u001b[49m\u001b[43m,\u001b[49m\u001b[43m \u001b[49m\u001b[43mdtype\u001b[49m\u001b[38;5;241;43m=\u001b[39;49m\u001b[43mdtype\u001b[49m\u001b[43m)\u001b[49m\n\u001b[1;32m     54\u001b[0m     )\n\u001b[1;32m     55\u001b[0m     \u001b[38;5;28mself\u001b[39m\u001b[38;5;241m.\u001b[39m_set_self(other)\n",
      "File \u001b[0;32m~/.conda/envs/recsys/lib/python3.8/site-packages/scipy/sparse/_coo.py:196\u001b[0m, in \u001b[0;36mcoo_matrix.__init__\u001b[0;34m(self, arg1, shape, dtype, copy)\u001b[0m\n\u001b[1;32m    194\u001b[0m     \u001b[38;5;28mself\u001b[39m\u001b[38;5;241m.\u001b[39mdata \u001b[38;5;241m=\u001b[39m \u001b[38;5;28mself\u001b[39m\u001b[38;5;241m.\u001b[39mdata\u001b[38;5;241m.\u001b[39mastype(dtype, copy\u001b[38;5;241m=\u001b[39m\u001b[38;5;28;01mFalse\u001b[39;00m)\n\u001b[0;32m--> 196\u001b[0m \u001b[38;5;28;43mself\u001b[39;49m\u001b[38;5;241;43m.\u001b[39;49m\u001b[43m_check\u001b[49m\u001b[43m(\u001b[49m\u001b[43m)\u001b[49m\n",
      "File \u001b[0;32m~/.conda/envs/recsys/lib/python3.8/site-packages/scipy/sparse/_coo.py:289\u001b[0m, in \u001b[0;36mcoo_matrix._check\u001b[0;34m(self)\u001b[0m\n\u001b[1;32m    288\u001b[0m \u001b[38;5;28;01mif\u001b[39;00m \u001b[38;5;28mself\u001b[39m\u001b[38;5;241m.\u001b[39mcol\u001b[38;5;241m.\u001b[39mmin() \u001b[38;5;241m<\u001b[39m \u001b[38;5;241m0\u001b[39m:\n\u001b[0;32m--> 289\u001b[0m     \u001b[38;5;28;01mraise\u001b[39;00m \u001b[38;5;167;01mValueError\u001b[39;00m(\u001b[38;5;124m'\u001b[39m\u001b[38;5;124mnegative column index found\u001b[39m\u001b[38;5;124m'\u001b[39m)\n",
      "\u001b[0;31mValueError\u001b[0m: negative column index found",
      "\nDuring handling of the above exception, another exception occurred:\n",
      "\u001b[0;31mRuntimeError\u001b[0m                              Traceback (most recent call last)",
      "Cell \u001b[0;32mIn [25], line 19\u001b[0m\n\u001b[1;32m     16\u001b[0m user_feat_train \u001b[38;5;241m=\u001b[39m user_features_df[user_features_df[Columns\u001b[38;5;241m.\u001b[39mUser]\u001b[38;5;241m.\u001b[39misin(df_train[Columns\u001b[38;5;241m.\u001b[39mUser])]\n\u001b[1;32m     17\u001b[0m item_feat_train \u001b[38;5;241m=\u001b[39m year_feature[year_feature[Columns\u001b[38;5;241m.\u001b[39mItem]\u001b[38;5;241m.\u001b[39misin(df_train[Columns\u001b[38;5;241m.\u001b[39mItem])]\n\u001b[0;32m---> 19\u001b[0m dataset \u001b[38;5;241m=\u001b[39m \u001b[43mDataset\u001b[49m\u001b[38;5;241;43m.\u001b[39;49m\u001b[43mconstruct\u001b[49m\u001b[43m(\u001b[49m\n\u001b[1;32m     20\u001b[0m \u001b[43m    \u001b[49m\u001b[43mdf_train\u001b[49m\u001b[43m,\u001b[49m\n\u001b[1;32m     21\u001b[0m \u001b[43m    \u001b[49m\u001b[43muser_features_df\u001b[49m\u001b[38;5;241;43m=\u001b[39;49m\u001b[43muser_feat_train\u001b[49m\u001b[43m,\u001b[49m\n\u001b[1;32m     22\u001b[0m \u001b[43m    \u001b[49m\u001b[43mcat_user_features\u001b[49m\u001b[38;5;241;43m=\u001b[39;49m\u001b[43muser_features\u001b[49m\u001b[43m,\u001b[49m\n\u001b[1;32m     23\u001b[0m \u001b[43m    \u001b[49m\u001b[43mitem_features_df\u001b[49m\u001b[38;5;241;43m=\u001b[39;49m\u001b[43mitem_feat_train\u001b[49m\u001b[43m,\u001b[49m\n\u001b[1;32m     24\u001b[0m \u001b[43m    \u001b[49m\u001b[43mcat_item_features\u001b[49m\u001b[38;5;241;43m=\u001b[39;49m\u001b[43m[\u001b[49m\u001b[38;5;124;43m'\u001b[39;49m\u001b[38;5;124;43mrelease_year\u001b[39;49m\u001b[38;5;124;43m'\u001b[39;49m\u001b[43m]\u001b[49m\n\u001b[1;32m     25\u001b[0m \u001b[43m\u001b[49m\u001b[43m)\u001b[49m\n\u001b[1;32m     27\u001b[0m df_test \u001b[38;5;241m=\u001b[39m interactions_\u001b[38;5;241m.\u001b[39mdf\u001b[38;5;241m.\u001b[39miloc[test_ids][Columns\u001b[38;5;241m.\u001b[39mUserItem]\n\u001b[1;32m     28\u001b[0m test_users \u001b[38;5;241m=\u001b[39m np\u001b[38;5;241m.\u001b[39munique(df_test[Columns\u001b[38;5;241m.\u001b[39mUser])\n",
      "File \u001b[0;32m~/.conda/envs/recsys/lib/python3.8/site-packages/rectools/dataset/dataset.py:123\u001b[0m, in \u001b[0;36mDataset.construct\u001b[0;34m(cls, interactions_df, user_features_df, cat_user_features, make_dense_user_features, item_features_df, cat_item_features, make_dense_item_features)\u001b[0m\n\u001b[1;32m    114\u001b[0m interactions \u001b[38;5;241m=\u001b[39m Interactions\u001b[38;5;241m.\u001b[39mfrom_raw(interactions_df, user_id_map, item_id_map)\n\u001b[1;32m    115\u001b[0m user_features \u001b[38;5;241m=\u001b[39m \u001b[38;5;28mcls\u001b[39m\u001b[38;5;241m.\u001b[39m_make_features(\n\u001b[1;32m    116\u001b[0m     user_features_df,\n\u001b[1;32m    117\u001b[0m     cat_user_features,\n\u001b[0;32m   (...)\u001b[0m\n\u001b[1;32m    121\u001b[0m     \u001b[38;5;124m\"\u001b[39m\u001b[38;5;124muser\u001b[39m\u001b[38;5;124m\"\u001b[39m,\n\u001b[1;32m    122\u001b[0m )\n\u001b[0;32m--> 123\u001b[0m item_features \u001b[38;5;241m=\u001b[39m \u001b[38;5;28;43mcls\u001b[39;49m\u001b[38;5;241;43m.\u001b[39;49m\u001b[43m_make_features\u001b[49m\u001b[43m(\u001b[49m\n\u001b[1;32m    124\u001b[0m \u001b[43m    \u001b[49m\u001b[43mitem_features_df\u001b[49m\u001b[43m,\u001b[49m\n\u001b[1;32m    125\u001b[0m \u001b[43m    \u001b[49m\u001b[43mcat_item_features\u001b[49m\u001b[43m,\u001b[49m\n\u001b[1;32m    126\u001b[0m \u001b[43m    \u001b[49m\u001b[43mmake_dense_item_features\u001b[49m\u001b[43m,\u001b[49m\n\u001b[1;32m    127\u001b[0m \u001b[43m    \u001b[49m\u001b[43mitem_id_map\u001b[49m\u001b[43m,\u001b[49m\n\u001b[1;32m    128\u001b[0m \u001b[43m    \u001b[49m\u001b[43mColumns\u001b[49m\u001b[38;5;241;43m.\u001b[39;49m\u001b[43mItem\u001b[49m\u001b[43m,\u001b[49m\n\u001b[1;32m    129\u001b[0m \u001b[43m    \u001b[49m\u001b[38;5;124;43m\"\u001b[39;49m\u001b[38;5;124;43mitem\u001b[39;49m\u001b[38;5;124;43m\"\u001b[39;49m\u001b[43m,\u001b[49m\n\u001b[1;32m    130\u001b[0m \u001b[43m\u001b[49m\u001b[43m)\u001b[49m\n\u001b[1;32m    131\u001b[0m \u001b[38;5;28;01mreturn\u001b[39;00m \u001b[38;5;28mcls\u001b[39m(user_id_map, item_id_map, interactions, user_features, item_features)\n",
      "File \u001b[0;32m~/.conda/envs/recsys/lib/python3.8/site-packages/rectools/dataset/dataset.py:164\u001b[0m, in \u001b[0;36mDataset._make_features\u001b[0;34m(df, cat_features, make_dense, id_map, possible_id_col, feature_type)\u001b[0m\n\u001b[1;32m    162\u001b[0m     \u001b[38;5;28;01mraise\u001b[39;00m \u001b[38;5;167;01mValueError\u001b[39;00m(\u001b[38;5;124mf\u001b[39m\u001b[38;5;124m\"\u001b[39m\u001b[38;5;124mSome ids from \u001b[39m\u001b[38;5;132;01m{\u001b[39;00mfeature_type\u001b[38;5;132;01m}\u001b[39;00m\u001b[38;5;124m features table not present in interactions\u001b[39m\u001b[38;5;124m\"\u001b[39m)\n\u001b[1;32m    163\u001b[0m \u001b[38;5;28;01mexcept\u001b[39;00m \u001b[38;5;167;01mException\u001b[39;00m \u001b[38;5;28;01mas\u001b[39;00m e:  \u001b[38;5;66;03m# pragma: no cover\u001b[39;00m\n\u001b[0;32m--> 164\u001b[0m     \u001b[38;5;28;01mraise\u001b[39;00m \u001b[38;5;167;01mRuntimeError\u001b[39;00m(\u001b[38;5;124mf\u001b[39m\u001b[38;5;124m\"\u001b[39m\u001b[38;5;124mAn error has occurred while constructing \u001b[39m\u001b[38;5;132;01m{\u001b[39;00mfeature_type\u001b[38;5;132;01m}\u001b[39;00m\u001b[38;5;124m features: \u001b[39m\u001b[38;5;132;01m{\u001b[39;00me\u001b[38;5;132;01m!r}\u001b[39;00m\u001b[38;5;124m\"\u001b[39m)\n",
      "\u001b[0;31mRuntimeError\u001b[0m: An error has occurred while constructing item features: ValueError('negative column index found')"
     ]
    }
   ],
   "source": [
    "folds = splitter.split(interactions_)\n",
    "\n",
    "metrics = {\n",
    "    'MAP@10' : MAP(k=10), \n",
    "}\n",
    "\n",
    "results = {\n",
    "    \"model_name\" : [],\n",
    "    \"map\" : []\n",
    "}\n",
    "\n",
    "models = {}\n",
    "\n",
    "for i, (train_ids, test_ids, _) in tqdm(enumerate(folds), total=splitter.get_n_splits(interactions_)):\n",
    "    df_train = interactions_.df.iloc[train_ids]\n",
    "    user_feat_train = user_features_df[user_features_df[Columns.User].isin(df_train[Columns.User])]\n",
    "    item_feat_train = year_feature[year_feature[Columns.Item].isin(df_train[Columns.Item])]\n",
    "\n",
    "    dataset = Dataset.construct(\n",
    "        df_train,\n",
    "        user_features_df=user_feat_train,\n",
    "        cat_user_features=user_features,\n",
    "        item_features_df=item_feat_train,\n",
    "        cat_item_features=['release_year']\n",
    "    )\n",
    "\n",
    "    df_test = interactions_.df.iloc[test_ids][Columns.UserItem]\n",
    "    test_users = np.unique(df_test[Columns.User])\n",
    "    \n",
    "    for params in tqdm(parameter_grid):\n",
    "        model = PopularInCategoryModel(period=pd.to_timedelta(params[0], unit='D'),\n",
    "                                       category_feature=params[1],\n",
    "                                       n_categories=params[2])\n",
    "        model.fit(dataset)\n",
    "\n",
    "        recos = model.recommend(\n",
    "            users = test_users,\n",
    "            dataset=dataset,\n",
    "            k=10,\n",
    "            filter_viewed=True\n",
    "        )\n",
    "\n",
    "        metric_values = calc_metrics(\n",
    "            metrics,\n",
    "            reco=recos,\n",
    "            interactions=df_test,\n",
    "            prev_interactions=df_train\n",
    "        )\n",
    "        \n",
    "        results['model_name'].append(f\"{params[0]}_{params[1]}_{params[2]}\")\n",
    "        results['map'].append(metric_values[\"MAP@10\"])\n",
    "        \n",
    "        models[f\"{params[0]}_{params[1]}_{params[2]}\"] = model"
   ]
  },
  {
   "cell_type": "code",
   "execution_count": 23,
   "id": "422debe7-34d1-4861-86d8-e7deb70a3c9e",
   "metadata": {},
   "outputs": [
    {
     "data": {
      "text/html": [
       "<div>\n",
       "<style scoped>\n",
       "    .dataframe tbody tr th:only-of-type {\n",
       "        vertical-align: middle;\n",
       "    }\n",
       "\n",
       "    .dataframe tbody tr th {\n",
       "        vertical-align: top;\n",
       "    }\n",
       "\n",
       "    .dataframe thead th {\n",
       "        text-align: right;\n",
       "    }\n",
       "</style>\n",
       "<table border=\"1\" class=\"dataframe\">\n",
       "  <thead>\n",
       "    <tr style=\"text-align: right;\">\n",
       "      <th></th>\n",
       "      <th>item_id</th>\n",
       "      <th>value</th>\n",
       "      <th>feature</th>\n",
       "    </tr>\n",
       "  </thead>\n",
       "  <tbody>\n",
       "    <tr>\n",
       "      <th>0</th>\n",
       "      <td>10711</td>\n",
       "      <td>1983.0</td>\n",
       "      <td>release_year</td>\n",
       "    </tr>\n",
       "    <tr>\n",
       "      <th>1</th>\n",
       "      <td>2508</td>\n",
       "      <td>2012.0</td>\n",
       "      <td>release_year</td>\n",
       "    </tr>\n",
       "    <tr>\n",
       "      <th>2</th>\n",
       "      <td>10716</td>\n",
       "      <td>2009.0</td>\n",
       "      <td>release_year</td>\n",
       "    </tr>\n",
       "    <tr>\n",
       "      <th>3</th>\n",
       "      <td>7868</td>\n",
       "      <td>2014.0</td>\n",
       "      <td>release_year</td>\n",
       "    </tr>\n",
       "    <tr>\n",
       "      <th>4</th>\n",
       "      <td>16268</td>\n",
       "      <td>1897.0</td>\n",
       "      <td>release_year</td>\n",
       "    </tr>\n",
       "    <tr>\n",
       "      <th>...</th>\n",
       "      <td>...</td>\n",
       "      <td>...</td>\n",
       "      <td>...</td>\n",
       "    </tr>\n",
       "    <tr>\n",
       "      <th>15958</th>\n",
       "      <td>6443</td>\n",
       "      <td>2016.0</td>\n",
       "      <td>release_year</td>\n",
       "    </tr>\n",
       "    <tr>\n",
       "      <th>15959</th>\n",
       "      <td>2367</td>\n",
       "      <td>2019.0</td>\n",
       "      <td>release_year</td>\n",
       "    </tr>\n",
       "    <tr>\n",
       "      <th>15960</th>\n",
       "      <td>10632</td>\n",
       "      <td>2016.0</td>\n",
       "      <td>release_year</td>\n",
       "    </tr>\n",
       "    <tr>\n",
       "      <th>15961</th>\n",
       "      <td>4538</td>\n",
       "      <td>2018.0</td>\n",
       "      <td>release_year</td>\n",
       "    </tr>\n",
       "    <tr>\n",
       "      <th>15962</th>\n",
       "      <td>3206</td>\n",
       "      <td>2018.0</td>\n",
       "      <td>release_year</td>\n",
       "    </tr>\n",
       "  </tbody>\n",
       "</table>\n",
       "<p>15963 rows × 3 columns</p>\n",
       "</div>"
      ],
      "text/plain": [
       "       item_id   value       feature\n",
       "0        10711  1983.0  release_year\n",
       "1         2508  2012.0  release_year\n",
       "2        10716  2009.0  release_year\n",
       "3         7868  2014.0  release_year\n",
       "4        16268  1897.0  release_year\n",
       "...        ...     ...           ...\n",
       "15958     6443  2016.0  release_year\n",
       "15959     2367  2019.0  release_year\n",
       "15960    10632  2016.0  release_year\n",
       "15961     4538  2018.0  release_year\n",
       "15962     3206  2018.0  release_year\n",
       "\n",
       "[15963 rows x 3 columns]"
      ]
     },
     "execution_count": 23,
     "metadata": {},
     "output_type": "execute_result"
    }
   ],
   "source": [
    "year_feature"
   ]
  },
  {
   "cell_type": "code",
   "execution_count": null,
   "id": "038f8dad-a3b6-4a9d-b8e9-829ac8e6e72b",
   "metadata": {},
   "outputs": [],
   "source": []
  }
 ],
 "metadata": {
  "kernelspec": {
   "display_name": "recsys",
   "language": "python",
   "name": "recsys"
  },
  "language_info": {
   "codemirror_mode": {
    "name": "ipython",
    "version": 3
   },
   "file_extension": ".py",
   "mimetype": "text/x-python",
   "name": "python",
   "nbconvert_exporter": "python",
   "pygments_lexer": "ipython3",
   "version": "3.8.15"
  }
 },
 "nbformat": 4,
 "nbformat_minor": 5
}
